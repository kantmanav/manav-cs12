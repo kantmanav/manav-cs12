{
 "cells": [
  {
   "cell_type": "markdown",
   "metadata": {},
   "source": [
    "# Lab 2: Linear Models\n",
    "This lab, like the others that follow it, will be a small, largely self-guided project in building a machine learning model.\n",
    "You will write a logistic regression classifier, from scratch, to classify 28x28 pixel images of handwritten digits (0 - 9) by which digit appears in the image.\n",
    "This is [the famous MNIST dataset](http://yann.lecun.com/exdb/mnist/), which has 60,000 training examples and 10,000 test examples."
   ]
  },
  {
   "cell_type": "code",
   "execution_count": 2,
   "metadata": {},
   "outputs": [],
   "source": [
    "%matplotlib inline\n",
    "import numpy as np\n",
    "import tensorflow as tf\n",
    "import matplotlib.pyplot as plt\n",
    "# Any other imports you need go here"
   ]
  },
  {
   "cell_type": "markdown",
   "metadata": {},
   "source": [
    "## Section 0: download the data\n",
    "Download the data as a CSV [here](https://pjreddie.com/projects/mnist-in-csv/) (the original data format is very unfriendly) and read the data format on the website."
   ]
  },
  {
   "cell_type": "markdown",
   "metadata": {},
   "source": [
    "## Section 1: load, understand, and preprocess the data\n",
    "Load the data from disk into four numpy arrays: x_train (feature vectors from the training set), y_train (labels from the training set), x_test (feature vectors from the test set), and y_test (labels from the test set).\n",
    "\n",
    "Then, do some simple preprocessing.\n",
    "Normalize your features by subtracting the mean and dividing by the range.\n",
    "This is less important for linear models, but is generally good practice and will be much more important with more complex models.\n",
    "Make sure you don't use any values computed from the test set, just the mean and range of the training set.\n",
    "\n",
    "Finally, display one of the training images, and print its correct label.\n",
    "\n",
    "Functions to look at:\n",
    " - `np.loadtxt`\n",
    " - `np.reshape`\n",
    " - `plt.imshow`"
   ]
  },
  {
   "cell_type": "code",
   "execution_count": 25,
   "metadata": {},
   "outputs": [],
   "source": [
    "# Your code here\n",
    "train_data = np.loadtxt('../../data/lab_1_data/mnist_train.csv', delimiter=',')\n",
    "test_data = np.loadtxt('../../data/lab_1_data/mnist_test.csv', delimiter=',')"
   ]
  },
  {
   "cell_type": "code",
   "execution_count": 26,
   "metadata": {},
   "outputs": [
    {
     "name": "stdout",
     "output_type": "stream",
     "text": [
      "(60000, 785)\n"
     ]
    }
   ],
   "source": [
    "# 60,000 images with 784 pixels each, first column is the labels (according to website)\n",
    "print(np.shape(train_data))"
   ]
  },
  {
   "cell_type": "code",
   "execution_count": 27,
   "metadata": {},
   "outputs": [],
   "source": [
    "y_train, x_train = np.split(train_data, [1], axis=1)\n",
    "y_test, x_test = np.split(test_data, [1], axis=1)"
   ]
  },
  {
   "cell_type": "code",
   "execution_count": 28,
   "metadata": {},
   "outputs": [
    {
     "name": "stdout",
     "output_type": "stream",
     "text": [
      "(60000, 1)\n",
      "(60000, 784)\n",
      "(10000, 1)\n",
      "(10000, 784)\n"
     ]
    }
   ],
   "source": [
    "print(np.shape(y_train))\n",
    "print(np.shape(x_train))\n",
    "\n",
    "print(np.shape(y_test))\n",
    "print(np.shape(x_test))"
   ]
  },
  {
   "cell_type": "code",
   "execution_count": 29,
   "metadata": {
    "scrolled": true
   },
   "outputs": [
    {
     "name": "stdout",
     "output_type": "stream",
     "text": [
      "[[5.]\n",
      " [0.]\n",
      " [4.]\n",
      " [1.]\n",
      " [9.]\n",
      " [2.]\n",
      " [1.]\n",
      " [3.]\n",
      " [1.]\n",
      " [4.]]\n",
      "[[7.]\n",
      " [2.]\n",
      " [1.]\n",
      " [0.]\n",
      " [4.]\n",
      " [1.]\n",
      " [4.]\n",
      " [9.]\n",
      " [5.]\n",
      " [9.]]\n"
     ]
    }
   ],
   "source": [
    "print(y_train[:10])\n",
    "print(y_test[:10])"
   ]
  },
  {
   "cell_type": "code",
   "execution_count": 40,
   "metadata": {},
   "outputs": [
    {
     "name": "stdout",
     "output_type": "stream",
     "text": [
      "33.318421449829934 255.0\n"
     ]
    }
   ],
   "source": [
    "# Preprocessing\n",
    "\n",
    "# This is incorrect. We need the overall mean, not the means of each image. Otherwise, important deviations between\n",
    "# the images would be left out of the data.\n",
    "# # Get mean of each row (each image)\n",
    "# means = np.mean(x_train, axis=1, keepdims=True)\n",
    "# # Get range of each row\n",
    "# ranges = np.ptp(x_train, axis=1, keepdims=True)\n",
    "\n",
    "mean = np.mean(x_train)\n",
    "trn_mean = mean * np.ones(x_train.shape)\n",
    "tst_mean = mean * np.ones(x_test.shape)\n",
    "dev = np.ptp(x_train)\n",
    "\n",
    "print(mean, dev)"
   ]
  },
  {
   "cell_type": "code",
   "execution_count": 46,
   "metadata": {},
   "outputs": [],
   "source": [
    "x_train = (x_train - trn_mean) / dev\n",
    "x_test = (x_test - tst_mean) / dev"
   ]
  },
  {
   "cell_type": "code",
   "execution_count": 47,
   "metadata": {},
   "outputs": [
    {
     "name": "stdout",
     "output_type": "stream",
     "text": [
      "-9.292793292240034e-18 0.0018541295684940551\n",
      "1.0 1.0\n"
     ]
    }
   ],
   "source": [
    "print(np.mean(x_train), np.mean(x_test))\n",
    "print(np.ptp(x_train), np.ptp(x_test))"
   ]
  },
  {
   "cell_type": "code",
   "execution_count": 48,
   "metadata": {},
   "outputs": [
    {
     "data": {
      "text/plain": [
       "<matplotlib.image.AxesImage at 0x7fa752190670>"
      ]
     },
     "execution_count": 48,
     "metadata": {},
     "output_type": "execute_result"
    },
    {
     "data": {
      "image/png": "[encoded data removed]",
      "text/plain": [
       "<Figure size 432x288 with 1 Axes>"
      ]
     },
     "metadata": {
      "needs_background": "light"
     },
     "output_type": "display_data"
    }
   ],
   "source": [
    "plt.imshow(np.reshape(x_train[0], (28, 28)))"
   ]
  },
  {
   "cell_type": "code",
   "execution_count": 49,
   "metadata": {},
   "outputs": [
    {
     "data": {
      "text/plain": [
       "<matplotlib.image.AxesImage at 0x7fa779f33850>"
      ]
     },
     "execution_count": 49,
     "metadata": {},
     "output_type": "execute_result"
    },
    {
     "data": {
      "image/png": "[encoded data removed]",
      "text/plain": [
       "<Figure size 432x288 with 1 Axes>"
      ]
     },
     "metadata": {
      "needs_background": "light"
     },
     "output_type": "display_data"
    }
   ],
   "source": [
    "plt.imshow(np.reshape(x_train[30234], (28, 28)))"
   ]
  },
  {
   "cell_type": "markdown",
   "metadata": {},
   "source": [
    "## Section 2: build a data pipeline\n",
    "Make a pipeline that turns the dataset you have in numpy arrays into tensors that your model can use.\n",
    "The pipeline should also shuffle and batch the data (with some reasonable batch size; I used 64 because I'm training on a GPU but you might want to go lower).\n",
    "\n",
    "There are multiple ways to approach this.\n",
    "No matter what, you'll need two `tf.data.Dataset`s, one for train and one for test, and probably you'll do some transforms to that.\n",
    "I made datasets which did not use `repeat` -- you might instead repeat the data for as many epochs (full run-throughs of the dataset during training, ~5-10 for this assignment) as you plan to train for.\n",
    "\n",
    "Optionally, you might want to cache or prefetch data to prevent it from being loaded multiple times while the model is training and keep the model from needing to wait for data.\n",
    "\n",
    "Now might also be a good place to convert the labels to one-hot encoding (see below), though you don't need to.\n",
    "If you want, you could also do your data normalization on-the-fly here (but make sure it still does the same thing).\n",
    "\n",
    "I would also create `SummaryWriter`s for the train and test sets here.\n",
    "\n",
    "Functions to look at (not exhaustive):\n",
    " - `tf.data.Dataset.from_tensor_slices`\n",
    " - `tf.data.Dataset.shuffle`\n",
    " - `tf.data.Dataset.batch`\n",
    " - `tf.data.Dataset.repeat`"
   ]
  },
  {
   "cell_type": "code",
   "execution_count": 115,
   "metadata": {},
   "outputs": [],
   "source": [
    "n_epochs = 10\n",
    "batch_size = 16\n",
    "\n",
    "# .cache() saves \n",
    "dataset_train = tf.data.Dataset.from_tensor_slices((x_train, y_train))\\\n",
    "    .shuffle(500).batch(batch_size).cache()\n",
    "dataset_test = tf.data.Dataset.from_tensor_slices((x_test, y_test))\\\n",
    "    .shuffle(500).batch(batch_size).cache()\n",
    "\n",
    "train_writer = tf.summary.create_file_writer('../../logs/lab_1_logs/train')\n",
    "test_writer = tf.summary.create_file_writer('../../logs/lab_1_logs/test')"
   ]
  },
  {
   "cell_type": "markdown",
   "metadata": {},
   "source": [
    "## Section 3: build a model graph\n",
    "This is where the actual model gets built.\n",
    "I'll give you the steps, but there's flexibility in how you implement each part.\n",
    "Make sure your design is clean, both for efficiency and ease of debugging.\n",
    "Names help divide the model into logical parts.\n",
    "\n",
    "Note that the first axis of every tensor will be the batch size.\n",
    "So, a tensor that in your model is a scalar will likely have a shape of (?), and a 10-element vector will have a shape of (?, 10).\n",
    "The \"?\" indicates that TensorFlow will treat this axis as being variable-length, since it can't infer it just from context.\n",
    "It may be helpful to switch your thinking back and forth from one view (no batches, scalars are scalars) when thinking about modeling to another (scalars come in batches) when writing code that changes shapes.\n",
    "\n",
    "If you're having difficulty debugging, try looking at your graph in TensorBoard, printing tensor objects to see their shapes, and running small parts of the graph while feeding values to certain tensors.\n",
    "\n",
    "Functions to look at throughout:\n",
    " - `tf.cast`\n",
    " - `tf.expand_dims`\n",
    " - `tf.squeeze`\n",
    " - arithmetic operations"
   ]
  },
  {
   "cell_type": "markdown",
   "metadata": {},
   "source": [
    "### 3.1: Class\n",
    "Write a `tf.Module` class that will be your logistic regression model. You may want to implement your graph operations in the `__call__` method for convenience.\n",
    "\n",
    "#### 3.1.1: Variables\n",
    "Logistic regression needs two variables, correctly shaped: a weight matrix and a vector of biases. \n",
    "\n",
    "#### 3.1.2: Logits\n",
    "Compute the inputs to the softmax functiton, the logits or \"unnormalized probabilities.\" The result should be, for each example in the batch, a vector of ten values (so the tensor has a shape like (?, 10)).\n",
    "\n",
    "#### 3.1.3: Softmax\n",
    "Apply the softmax function to the logits to obtain a vector of class probabilities.\n",
    "Again, there should be a probability for each class for each example.\n",
    "Do _not_ use helper functions to compute the softmax function, like `tf.nn.softmax` or `tf.contrib.layers.softmax`.\n",
    "Instead, stick to core operations like `tf.exp`.\n",
    "\n",
    "Two main reasons for this:\n",
    " 1. Better to learn without the API doing too much of the work for you; when doing model development it'll basically all be from scratch\n",
    " 2. I couldn't get `tf.nn.softmax` to run on a GPU, so I'd do it this way in practice too\n",
    "\n",
    "#### 3.1.4: Trace function\n",
    "Write a trace function to export your graph to TensorBoard (or decorate the `__call__` method)."
   ]
  },
  {
   "cell_type": "code",
   "execution_count": 129,
   "metadata": {},
   "outputs": [],
   "source": [
    "n_features = x_train.shape[1]\n",
    "n_classes = 10\n",
    "\n",
    "# Your code here\n",
    "class LogisticRegression(tf.Module):\n",
    "    def __init__(self, name=None):\n",
    "        super().__init__(name)\n",
    "        \n",
    "        # Taking dot product with single feature vectors for the images\n",
    "        # Uniform initializer?\n",
    "        self.weights = tf.Variable(tf.initializers.glorot_uniform()(shape=(n_features, n_classes), dtype=tf.float64), \\\n",
    "                                   name='weights')\n",
    "        # Scalar\n",
    "        self.bias = tf.Variable(tf.zeros_initializer()(shape=(n_classes,), dtype=tf.float64), name='bias')\n",
    "        \n",
    "    # Don't understand decoration too well...\n",
    "    # x should be a shape (n_features,) tensor representing a single image\n",
    "    @tf.function\n",
    "    def __call__(self, x):\n",
    "        # A row vector of 10 logits l_i, one for each digit class\n",
    "        # Can add tensor of shape (1, 10) to one of shape (10,)\n",
    "        # x has size (n, n_features)\n",
    "        logits = tf.add(tf.matmul(x, self.weights), self.bias)\n",
    "        exp = tf.exp(logits)\n",
    "        probs = exp / tf.reduce_sum(exp, axis=1, keepdims=True)\n",
    "        # Return a shape (10,) tensor of probabilities\n",
    "        return probs"
   ]
  },
  {
   "cell_type": "markdown",
   "metadata": {},
   "source": [
    "### 3.2: Cross-entropy loss\n",
    "Compute the per-example cross-entropy loss $$L = -y \\cdot \\log p_\\text{model}(y)$$ using the probabilities and the correct label.\n",
    "\n",
    "Then, take the mean of the per-example losses to compute a per-batch loss.\n",
    "\n",
    "It may be convenient to convert the label to a one-hot vector: 10 elements, each of which is 0 except the place of the correct label.\n",
    "For instance, a label of \"3\" would be the vector $$[0, 0, 0, 1, 0, 0, 0, 0, 0, 0].$$\n",
    "\n",
    "Functions to look at:\n",
    " - `tf.one_hot`\n",
    " - `tf.math.log`"
   ]
  },
  {
   "cell_type": "code",
   "execution_count": 152,
   "metadata": {},
   "outputs": [],
   "source": [
    "# Your code here\n",
    "def _loss(target, actual):\n",
    "    # Shape should be (n_examples,) after this\n",
    "    # For two vectors of the same size, * does a dot product--removed tf.reduce_sum\n",
    "    loss_per_example = -1 * tf.squeeze(tf.one_hot(tf.cast(target, dtype=tf.int32), 10)) * tf.cast(tf.math.log(actual), dtype=tf.float32)\n",
    "    #print(tf.squeeze(tf.one_hot(tf.cast(target, dtype=tf.int32), 10)))\n",
    "    #print(tf.cast(tf.math.log(actual), dtype=tf.float32).shape)\n",
    "    loss_batch = tf.reduce_mean(loss_per_example)\n",
    "    return loss_batch"
   ]
  },
  {
   "cell_type": "markdown",
   "metadata": {},
   "source": [
    "### 3.3: The optimizer\n",
    "Add an optimizer (simple gradient descent is fine). You may need to play around with the learning rate to find one that works.\n",
    "\n",
    "Write a train and test method that each represent one step of training/testing. The train method should apply the optimizer to minimize the per-batch loss. Also, add a summary operation which saves the per-batch loss so you can plot it later.\n",
    "\n",
    "The model should predict the digit it assigns the highest probability. \n",
    "Add a tensor which represents what fraction of the batch the model predicted correctly (its accuracy, or average 0/1 loss), and a summary operation for accuracy.\n",
    "\n",
    "You should record these summaries for both training and testing.\n",
    "\n",
    "\n",
    "Functions to look at:\n",
    " - `tf.argmax`\n",
    " - `tf.equal`\n",
    " - `tf.reduce_mean`\n"
   ]
  },
  {
   "cell_type": "code",
   "execution_count": 153,
   "metadata": {},
   "outputs": [],
   "source": [
    "# Add an optimizer to the graph\n",
    "optimizer = tf.optimizers.SGD(1e-2)\n",
    "\n",
    "def train(model, x, y, i):\n",
    "    with tf.GradientTape() as g:\n",
    "        loss = lambda: _loss(y, model(x))\n",
    "    optimizer.minimize(loss, model.trainable_variables)\n",
    "    with train_writer.as_default():\n",
    "        tf.summary.scalar('loss', loss(), step=i)\n",
    "        # tf.summary.scalar('bias', model.bias, step=i)\n",
    "\n",
    "def test(model, x, y, i):\n",
    "    loss = _loss(y, model(x))\n",
    "    with test_writer.as_default():\n",
    "        tf.summary.scalar('loss', loss, step=i)\n",
    "    # We are returning loss because we want to print it during our training loop\n",
    "    \n",
    "    return loss"
   ]
  },
  {
   "cell_type": "markdown",
   "metadata": {},
   "source": [
    "## Section 4: train the model\n",
    "Make a training loop which iterates through the full training set multiple times, and, for each batch run the train method you wrote earlier. \n",
    "\n",
    "After each epoch, iterate over the test dataset and print the average test accuracy over the whole test set.\n",
    "Finally, use a `Checkpoint` to save the whole graph to disk.\n",
    "\n",
    "Remember to: \n",
    " - Run your trace method once to export your graph to TensorBoard\n",
    " - Give train and test methods step numbers (batch steps)\n",
    "\n",
    "Then, run training.\n",
    "You should expect the model to hit about 90% test-set accuracy.\n",
    "Not bad for a linear model!\n",
    "If it doesn't, it might indicate a bug in your code, or you might need to tune hyperparameters (e.g. batch size, learning rate).\n",
    "The accuracy should sharply jump after the first epoch, so you don't need to wait for the full model to train to know you have a bug. \n",
    "\n",
    "You might notice, looking at the training plots on TensorBoard, how close the training and test errors are.\n",
    "This suggests our model is probably underfitting, and a more powerful model will do better.\n",
    "\n",
    "<sup><sub>My model was showing 20% accuracy and it took over an hour to figure out I was actually just computing accuracy wrong :(</sub></sup>"
   ]
  },
  {
   "cell_type": "code",
   "execution_count": 154,
   "metadata": {},
   "outputs": [
    {
     "name": "stdout",
     "output_type": "stream",
     "text": [
      "Epoch:\t 0\n",
      "Average Test Set Loss:\t 0.08765583\n",
      "Epoch:\t 1\n",
      "Average Test Set Loss:\t 0.0650078\n",
      "Epoch:\t 2\n",
      "Average Test Set Loss:\t 0.055801056\n",
      "Epoch:\t 3\n",
      "Average Test Set Loss:\t 0.050650474\n",
      "Epoch:\t 4\n",
      "Average Test Set Loss:\t 0.047293685\n",
      "Epoch:\t 5\n",
      "Average Test Set Loss:\t 0.044901274\n",
      "Epoch:\t 6\n",
      "Average Test Set Loss:\t 0.043093022\n",
      "Epoch:\t 7\n",
      "Average Test Set Loss:\t 0.04166835\n",
      "Epoch:\t 8\n",
      "Average Test Set Loss:\t 0.040510643\n",
      "Epoch:\t 9\n",
      "Average Test Set Loss:\t 0.03954711\n"
     ]
    },
    {
     "data": {
      "text/plain": [
       "'./checkpoints_lecture/model'"
      ]
     },
     "execution_count": 154,
     "metadata": {},
     "output_type": "execute_result"
    }
   ],
   "source": [
    "model = LogisticRegression()\n",
    "train_batch = 0\n",
    "test_batch = 0\n",
    "\n",
    "# Training loop\n",
    "for i in range(n_epochs):\n",
    "    # Iterate over dataset once\n",
    "    for x, y in dataset_train:  \n",
    "        if train_batch == 0:\n",
    "            # On the first batch, run a full trace\n",
    "            tf.summary.trace_on(graph=True, profiler=True)\n",
    "            # We simply run this operation to add our graph to TensorBoard\n",
    "            with train_writer.as_default():\n",
    "                tf.summary.trace_export(name='first training batch', step=0, profiler_outdir='../../logs/lab_1_logs')\n",
    "        # Call train iteration\n",
    "        train(model, x, y, train_batch)\n",
    "        train_batch += 1\n",
    "\n",
    "    print('Epoch:\\t', i)\n",
    "    test_losses = [] # Track average loss over test set\n",
    "    for x, y in dataset_test:\n",
    "        test_losses.append(test(model, x, y, test_batch))\n",
    "        # Roughly align test batches with training batches\n",
    "        test_batch += 1\n",
    "\n",
    "    print('Average Test Set Loss:\\t', np.mean(test_losses))\n",
    "    \n",
    "# Save model\n",
    "checkpoint = tf.train.Checkpoint(model=model)\n",
    "checkpoint.write('./checkpoints_lecture/model')"
   ]
  },
  {
   "cell_type": "markdown",
   "metadata": {},
   "source": [
    "## Section 5: use the model for inference\n",
    "Pull one or more examples from the test set and display its image.\n",
    "Then, use your model to predict what digit the image is, print that, and print the true label (which hopefully matches).\n",
    "\n",
    "Remember you'll need to spin up a new instance of your model and checkpoint, then use `Checkpoint.restore()` to load the trained model before inference."
   ]
  },
  {
   "cell_type": "code",
   "execution_count": 155,
   "metadata": {},
   "outputs": [
    {
     "data": {
      "text/plain": [
       "<matplotlib.image.AxesImage at 0x7fa6294f3580>"
      ]
     },
     "execution_count": 155,
     "metadata": {},
     "output_type": "execute_result"
    },
    {
     "data": {
      "image/png": "[encoded data removed]",
      "text/plain": [
       "<Figure size 432x288 with 1 Axes>"
      ]
     },
     "metadata": {
      "needs_background": "light"
     },
     "output_type": "display_data"
    }
   ],
   "source": [
    "plt.imshow(np.reshape(x_train[6], (28, 28)))"
   ]
  },
  {
   "cell_type": "code",
   "execution_count": 162,
   "metadata": {},
   "outputs": [
    {
     "data": {
      "text/plain": [
       "<tensorflow.python.training.tracking.util.CheckpointLoadStatus at 0x7fa629925700>"
      ]
     },
     "execution_count": 162,
     "metadata": {},
     "output_type": "execute_result"
    }
   ],
   "source": [
    "new_model = LogisticRegression()\n",
    "new_check = tf.train.Checkpoint(model=new_model)\n",
    "new_check.restore('./checkpoints_lecture/model')\n",
    "\n",
    "# tf.print(model(x_train[3]), summarize=10)\n",
    "# tf.print(new_model(x_train[3]), summarize=10)"
   ]
  },
  {
   "cell_type": "markdown",
   "metadata": {},
   "source": [
    "## Section 6: visualizations\n",
    "Visualize, as an image (i.e. `plt.imshow`), the weight matrix for each of the digits.\n",
    "You might want to use the `vmin` and `vmax` arguments to put all of the matrices on the same scale. \n",
    "You'll need to load the weights again to save them to numpy arrays (by accessinging your class).\n",
    "\n",
    "The results are pretty interesting.\n",
    "The image should be brightest where the weights strongly indicate that digit, so you can see what's (linearly) characteristic of different digits -- I see a strong dark spot in the middle for zero, a distinctive curly tail on 2, and a consistent 3.\n",
    "Other digits (e.g. 8 and 9) have much weaker patterns, suggesting greater variation in how people draw them."
   ]
  },
  {
   "cell_type": "code",
   "execution_count": 170,
   "metadata": {},
   "outputs": [
    {
     "data": {
      "text/plain": [
       "<matplotlib.image.AxesImage at 0x7fa628e85520>"
      ]
     },
     "execution_count": 170,
     "metadata": {},
     "output_type": "execute_result"
    },
    {
     "data": {
      "image/png": "[encoded data removed]",
      "text/plain": [
       "<Figure size 432x288 with 1 Axes>"
      ]
     },
     "metadata": {
      "needs_background": "light"
     },
     "output_type": "display_data"
    }
   ],
   "source": [
    "plt.figure()\n",
    "\n",
    "# f, axarr = plt.subplots(2,5)\n",
    "\n",
    "plt.imshow(tf.reshape(new_model.weights[:, 8], [28, 28]), vmin=0, vmax=0.1)\n",
    "\n",
    "\n",
    "# axarr[0, 0].imshow(tf.reshape(new_model.weights[:, 0], [28, 28]))\n",
    "# axarr[0, 1].imshow(tf.reshape(new_model.weights[:, 1], [28, 28]))\n",
    "# axarr[0, 2].imshow(tf.reshape(new_model.weights[:, 2], [28, 28]))\n",
    "# axarr[0, 3].imshow(tf.reshape(new_model.weights[:, 3], [28, 28]))\n",
    "# axarr[0, 4].imshow(tf.reshape(new_model.weights[:, 4], [28, 28]))\n",
    "# axarr[1, 0].imshow(tf.reshape(new_model.weights[:, 5], [28, 28]))\n",
    "# axarr[1, 1].imshow(tf.reshape(new_model.weights[:, 6], [28, 28]))\n",
    "# axarr[1, 2].imshow(tf.reshape(new_model.weights[:, 7], [28, 28]))\n",
    "# axarr[1, 3].imshow(tf.reshape(new_model.weights[:, 8], [28, 28]))\n",
    "# axarr[1, 4].imshow(tf.reshape(new_model.weights[:, 9], [28, 28]))"
   ]
  },
  {
   "cell_type": "code",
   "execution_count": null,
   "metadata": {},
   "outputs": [],
   "source": []
  }
 ],
 "metadata": {
  "kernelspec": {
   "display_name": "Python 3",
   "language": "python",
   "name": "python3"
  },
  "language_info": {
   "codemirror_mode": {
    "name": "ipython",
    "version": 3
   },
   "file_extension": ".py",
   "mimetype": "text/x-python",
   "name": "python",
   "nbconvert_exporter": "python",
   "pygments_lexer": "ipython3",
   "version": "3.8.3"
  }
 },
 "nbformat": 4,
 "nbformat_minor": 2
}
