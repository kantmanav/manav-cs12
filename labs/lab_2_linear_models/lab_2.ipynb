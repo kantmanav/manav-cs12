{
 "cells": [
  {
   "cell_type": "markdown",
   "metadata": {},
   "source": [
    "## Grade: (3 + 3 + 2 + 2.5 + 2 + 3)/6 = 2.58 \n",
    "\n",
    "# Lab 2: Linear Models\n",
    "\n",
    "This lab, like the others that follow it, will be a small, largely self-guided project in building a machine learning model.\n",
    "You will write a logistic regression classifier, from scratch, to classify 28x28 pixel images of handwritten digits (0 - 9) by which digit appears in the image.\n",
    "This is [the famous MNIST dataset](http://yann.lecun.com/exdb/mnist/), which has 60,000 training examples and 10,000 test examples."
   ]
  },
  {
   "cell_type": "code",
   "execution_count": null,
   "metadata": {
    "tags": []
   },
   "outputs": [],
   "source": [
    "%matplotlib inline\n",
    "import numpy as np\n",
    "import tensorflow as tf\n",
    "import matplotlib.pyplot as plt\n",
    "# Any other imports you need go here"
   ]
  },
  {
   "cell_type": "code",
   "execution_count": null,
   "metadata": {
    "tags": []
   },
   "outputs": [],
   "source": [
    "import os\n",
    "os.environ[\"CUDA_VISIBLE_DEVICES\"] = \"-1\""
   ]
  },
  {
   "cell_type": "markdown",
   "metadata": {},
   "source": [
    "## Section 0: download the data\n",
    "Download the data as a CSV [here](https://pjreddie.com/projects/mnist-in-csv/) (the original data format is very unfriendly) and read the data format on the website."
   ]
  },
  {
   "cell_type": "markdown",
   "metadata": {},
   "source": [
    "## Section 1: load, understand, and preprocess the data (3/3)\n",
    "Load the data from disk into four numpy arrays: x_train (feature vectors from the training set), y_train (labels from the training set), x_test (feature vectors from the test set), and y_test (labels from the test set).\n",
    "\n",
    "Then, do some simple preprocessing.\n",
    "Normalize your features by subtracting the mean and dividing by the range.\n",
    "This is less important for linear models, but is generally good practice and will be much more important with more complex models.\n",
    "Make sure you don't use any values computed from the test set, just the mean and range of the training set.\n",
    "\n",
    "Finally, display one of the training images, and print its correct label.\n",
    "\n",
    "Functions to look at:\n",
    " - `np.loadtxt`\n",
    " - `np.reshape`\n",
    " - `plt.imshow`"
   ]
  },
  {
   "cell_type": "code",
   "execution_count": null,
   "metadata": {
    "tags": []
   },
   "outputs": [],
   "source": [
    "# Your code here\n",
    "train_data = np.loadtxt('./mnist_train.csv', delimiter=',')\n",
    "test_data = np.loadtxt('./mnist_test.csv', delimiter=',')"
   ]
  },
  {
   "cell_type": "code",
   "execution_count": null,
   "metadata": {
    "tags": []
   },
   "outputs": [],
   "source": [
    "# 60,000 images with 784 pixels each, first column is the labels (according to website)\n",
    "print(np.shape(train_data))"
   ]
  },
  {
   "cell_type": "code",
   "execution_count": null,
   "metadata": {
    "tags": []
   },
   "outputs": [],
   "source": [
    "y_train, x_train = np.split(train_data, [1], axis=1)\n",
    "y_test, x_test = np.split(test_data, [1], axis=1)"
   ]
  },
  {
   "cell_type": "code",
   "execution_count": null,
   "metadata": {
    "tags": []
   },
   "outputs": [],
   "source": [
    "print(np.shape(y_train))\n",
    "print(np.shape(x_train))\n",
    "\n",
    "print(np.shape(y_test))\n",
    "print(np.shape(x_test))"
   ]
  },
  {
   "cell_type": "code",
   "execution_count": null,
   "metadata": {
    "scrolled": true,
    "tags": []
   },
   "outputs": [],
   "source": [
    "print(y_train[:10])\n",
    "print(y_test[:10])"
   ]
  },
  {
   "cell_type": "code",
   "execution_count": null,
   "metadata": {
    "tags": []
   },
   "outputs": [],
   "source": [
    "# Preprocessing\n",
    "\n",
    "# This is incorrect. We need the overall mean, not the means of each image. Otherwise, important deviations between\n",
    "# the images would be left out of the data.\n",
    "# # Get mean of each row (each image)\n",
    "# means = np.mean(x_train, axis=1, keepdims=True)\n",
    "# # Get range of each row\n",
    "# ranges = np.ptp(x_train, axis=1, keepdims=True)\n",
    "\n",
    "mean = np.mean(x_train)\n",
    "trn_mean = mean * np.ones(x_train.shape)\n",
    "tst_mean = mean * np.ones(x_test.shape)\n",
    "dev = np.ptp(x_train)\n",
    "\n",
    "print(mean, dev)"
   ]
  },
  {
   "cell_type": "code",
   "execution_count": null,
   "metadata": {
    "tags": []
   },
   "outputs": [],
   "source": [
    "x_train = (x_train - trn_mean) / dev\n",
    "x_test = (x_test - tst_mean) / dev"
   ]
  },
  {
   "cell_type": "code",
   "execution_count": null,
   "metadata": {
    "tags": []
   },
   "outputs": [],
   "source": [
    "print(np.mean(x_train), np.mean(x_test))\n",
    "print(np.ptp(x_train), np.ptp(x_test))"
   ]
  },
  {
   "cell_type": "code",
   "execution_count": null,
   "metadata": {
    "tags": []
   },
   "outputs": [],
   "source": [
    "plt.imshow(np.reshape(x_train[0], (28, 28)))"
   ]
  },
  {
   "cell_type": "code",
   "execution_count": null,
   "metadata": {
    "tags": []
   },
   "outputs": [],
   "source": [
    "plt.imshow(np.reshape(x_train[30234], (28, 28)))"
   ]
  },
  {
   "cell_type": "markdown",
   "metadata": {},
   "source": [
    "## Section 2: build a data pipeline (3/3)\n",
    "Make a pipeline that turns the dataset you have in numpy arrays into tensors that your model can use.\n",
    "The pipeline should also shuffle and batch the data (with some reasonable batch size; I used 64 because I'm training on a GPU but you might want to go lower).\n",
    "\n",
    "There are multiple ways to approach this.\n",
    "No matter what, you'll need two `tf.data.Dataset`s, one for train and one for test, and probably you'll do some transforms to that.\n",
    "I made datasets which did not use `repeat` -- you might instead repeat the data for as many epochs (full run-throughs of the dataset during training, ~5-10 for this assignment) as you plan to train for.\n",
    "\n",
    "Optionally, you might want to cache or prefetch data to prevent it from being loaded multiple times while the model is training and keep the model from needing to wait for data.\n",
    "\n",
    "Now might also be a good place to convert the labels to one-hot encoding (see below), though you don't need to.\n",
    "If you want, you could also do your data normalization on-the-fly here (but make sure it still does the same thing).\n",
    "\n",
    "I would also create `SummaryWriter`s for the train and test sets here.\n",
    "\n",
    "Functions to look at (not exhaustive):\n",
    " - `tf.data.Dataset.from_tensor_slices`\n",
    " - `tf.data.Dataset.shuffle`\n",
    " - `tf.data.Dataset.batch`\n",
    " - `tf.data.Dataset.repeat`"
   ]
  },
  {
   "cell_type": "code",
   "execution_count": 37,
   "metadata": {
    "tags": []
   },
   "outputs": [],
   "source": [
    "n_epochs = 100\n",
    "batch_size = 16\n",
    "\n",
    "# .cache() saves \n",
    "dataset_train = tf.data.Dataset.from_tensor_slices((x_train, y_train))\\\n",
    "    .shuffle(500).batch(batch_size)\n",
    "dataset_test = tf.data.Dataset.from_tensor_slices((x_test, y_test))\\\n",
    "    .shuffle(500).batch(batch_size)\n",
    "\n",
    "train_writer = tf.summary.create_file_writer('../../logs/lab_1_logs/train')\n",
    "test_writer = tf.summary.create_file_writer('../../logs/lab_1_logs/test')"
   ]
  },
  {
   "cell_type": "markdown",
   "metadata": {},
   "source": [
    "## Section 3: build a model graph (2/3)\n",
    "This is where the actual model gets built.\n",
    "I'll give you the steps, but there's flexibility in how you implement each part.\n",
    "Make sure your design is clean, both for efficiency and ease of debugging.\n",
    "Names help divide the model into logical parts.\n",
    "\n",
    "Note that the first axis of every tensor will be the batch size.\n",
    "So, a tensor that in your model is a scalar will likely have a shape of (?), and a 10-element vector will have a shape of (?, 10).\n",
    "The \"?\" indicates that TensorFlow will treat this axis as being variable-length, since it can't infer it just from context.\n",
    "It may be helpful to switch your thinking back and forth from one view (no batches, scalars are scalars) when thinking about modeling to another (scalars come in batches) when writing code that changes shapes.\n",
    "\n",
    "If you're having difficulty debugging, try looking at your graph in TensorBoard, printing tensor objects to see their shapes, and running small parts of the graph while feeding values to certain tensors.\n",
    "\n",
    "Functions to look at throughout:\n",
    " - `tf.cast`\n",
    " - `tf.expand_dims`\n",
    " - `tf.squeeze`\n",
    " - arithmetic operations"
   ]
  },
  {
   "cell_type": "markdown",
   "metadata": {},
   "source": [
    "### 3.1: Class\n",
    "Write a `tf.Module` class that will be your logistic regression model. You may want to implement your graph operations in the `__call__` method for convenience.\n",
    "\n",
    "#### 3.1.1: Variables\n",
    "Logistic regression needs two variables, correctly shaped: a weight matrix and a vector of biases. \n",
    "\n",
    "#### 3.1.2: Logits\n",
    "Compute the inputs to the softmax functiton, the logits or \"unnormalized probabilities.\" The result should be, for each example in the batch, a vector of ten values (so the tensor has a shape like (?, 10)).\n",
    "\n",
    "#### 3.1.3: Softmax\n",
    "Apply the softmax function to the logits to obtain a vector of class probabilities.\n",
    "Again, there should be a probability for each class for each example.\n",
    "Do _not_ use helper functions to compute the softmax function, like `tf.nn.softmax` or `tf.contrib.layers.softmax`.\n",
    "Instead, stick to core operations like `tf.exp`.\n",
    "\n",
    "Two main reasons for this:\n",
    " 1. Better to learn without the API doing too much of the work for you; when doing model development it'll basically all be from scratch\n",
    " 2. I couldn't get `tf.nn.softmax` to run on a GPU, so I'd do it this way in practice too\n",
    "\n",
    "#### 3.1.4: Trace function\n",
    "Write a trace function to export your graph to TensorBoard (or decorate the `__call__` method)."
   ]
  },
  {
   "cell_type": "code",
   "execution_count": 36,
   "metadata": {
    "tags": []
   },
   "outputs": [],
   "source": [
    "n_features = x_train.shape[1]\n",
    "n_classes = 10\n",
    "\n",
    "# Your code here\n",
    "class LogisticRegression(tf.Module):\n",
    "    def __init__(self, name=None):\n",
    "        super().__init__(name)\n",
    "        \n",
    "        # Taking dot product with single feature vectors for the images\n",
    "        # Uniform initializer?\n",
    "        self.weights = tf.Variable(tf.initializers.glorot_uniform()(shape=(n_features, n_classes), dtype=tf.float64), \\\n",
    "                                   name='weights')\n",
    "        # Scalar\n",
    "        self.bias = tf.Variable(tf.zeros_initializer()(shape=(n_classes,), dtype=tf.float64), name='bias')\n",
    "        \n",
    "    # Don't understand decoration too well...\n",
    "    # x should be a shape (n_features,) tensor representing a single image\n",
    "    @tf.function\n",
    "    def __call__(self, x):\n",
    "        # A row vector of 10 logits l_i, one for each digit class\n",
    "        # Can add tensor of shape (1, 10) to one of shape (10,)\n",
    "        logits = tf.squeeze(tf.add(tf.matmul(tf.expand_dims(x, axis=0), self.weights), self.bias))\n",
    "        exp = tf.exp(logits)\n",
    "        probs = exp / tf.reduce_sum(exp)\n",
    "        # Return a shape (10,) tensor of probabilities\n",
    "        return probs"
   ]
  },
  {
   "cell_type": "markdown",
   "metadata": {},
   "source": [
    "### 3.2: Cross-entropy loss\n",
    "Compute the per-example cross-entropy loss $$L = -y \\cdot \\log p_\\text{model}(y)$$ using the probabilities and the correct label.\n",
    "\n",
    "Then, take the mean of the per-example losses to compute a per-batch loss.\n",
    "\n",
    "It may be convenient to convert the label to a one-hot vector: 10 elements, each of which is 0 except the place of the correct label.\n",
    "For instance, a label of \"3\" would be the vector $$[0, 0, 0, 1, 0, 0, 0, 0, 0, 0].$$\n",
    "\n",
    "Functions to look at:\n",
    " - `tf.one_hot`\n",
    " - `tf.math.log`"
   ]
  },
  {
   "cell_type": "code",
   "execution_count": 63,
   "metadata": {
    "tags": []
   },
   "outputs": [],
   "source": [
    "# Your code here\n",
    "# TODO: (-1) Your loss function has a bit of an issue. tf.one_hot(tf.cast(target, dtype=tf.int32), 10) has shape (16, 1, 10) and you multiply \\\n",
    "# that by tf.cast(tf.math.log(actual), dtype=tf.float32) which has shape (16, 10) and the result of the multiplication is (16, 16, 10)\n",
    "# summing over the second dimension here doesn't quite get you the same result as if both things being multiplied were (16, 10) and then\n",
    "# the multiplication would be completley element wise. Basically, if you're ever multiplying things that isn't specifically a matrix multiplication\n",
    "# ensure the shapes of the operands are the same so that the multiplication happens element-wise. This error in your loss function could explain why\n",
    "# your model never really learned anything as indicated by your weight matrices not looking like anything. If your model learned correclty, you should\n",
    "# see outlines of numbers in the weight matrices. \n",
    "\n",
    "def _loss(target, actual):\n",
    "    # Shape should be (n_examples,) after this\n",
    "    loss_per_example = -1 * tf.reduce_sum(tf.one_hot(tf.cast(target, dtype=tf.int32), 10) * tf.cast(tf.math.log(actual), dtype=tf.float32), axis=1)\n",
    "    \n",
    "    loss_batch = tf.reduce_mean(loss_per_example)\n",
    "    return loss_batch"
   ]
  },
  {
   "cell_type": "code",
   "execution_count": 65,
   "metadata": {
    "tags": []
   },
   "outputs": [
    {
     "name": "stdout",
     "output_type": "stream",
     "text": [
      "(2, 1, 2)\n",
      "(2, 2)\n",
      "tf.Tensor(\n",
      "[[3 3]\n",
      " [6 6]], shape=(2, 2), dtype=int32)\n",
      "tf.Tensor(\n",
      "[[1 1]\n",
      " [4 4]], shape=(2, 2), dtype=int32)\n"
     ]
    }
   ],
   "source": [
    "a = tf.convert_to_tensor([[[1, 1]],[[2, 2]]] )\n",
    "b = tf.convert_to_tensor([[1, 1],[2, 2]])\n",
    "\n",
    "print(a.shape)\n",
    "print(b.shape)\n",
    "\n",
    "# what you did\n",
    "print(tf.reduce_sum(a*b, axis = 1))\n",
    "\n",
    "# what you should have done\n",
    "print(tf.squeeze(a)*b)\n"
   ]
  },
  {
   "cell_type": "markdown",
   "metadata": {},
   "source": [
    "### 3.3: The optimizer\n",
    "Add an optimizer (simple gradient descent is fine). You may need to play around with the learning rate to find one that works.\n",
    "\n",
    "Write a train and test method that each represent one step of training/testing. The train method should apply the optimizer to minimize the per-batch loss. Also, add a summary operation which saves the per-batch loss so you can plot it later.\n",
    "\n",
    "The model should predict the digit it assigns the highest probability. \n",
    "Add a tensor which represents what fraction of the batch the model predicted correctly (its accuracy, or average 0/1 loss), and a summary operation for accuracy.\n",
    "\n",
    "You should record these summaries for both training and testing.\n",
    "\n",
    "\n",
    "Functions to look at:\n",
    " - `tf.argmax`\n",
    " - `tf.equal`\n",
    " - `tf.reduce_mean`\n"
   ]
  },
  {
   "cell_type": "code",
   "execution_count": 53,
   "metadata": {
    "tags": []
   },
   "outputs": [],
   "source": [
    "# Add an optimizer to the graph\n",
    "optimizer = tf.optimizers.SGD(1e-3)\n",
    "\n",
    "def train(model, x, y, i):\n",
    "    with tf.GradientTape() as g:\n",
    "        loss = lambda: _loss(y, model(x))\n",
    "    with tf.device('/cpu:0'):\n",
    "        optimizer.minimize(loss, model.trainable_variables)\n",
    "    with train_writer.as_default():\n",
    "        tf.summary.scalar('loss', loss(), step=i)\n",
    "        # tf.summary.scalar('bias', model.bias, step=i)\n",
    "\n",
    "def test(model, x, y, i):\n",
    "    loss = _loss(y, model(x))\n",
    "    with test_writer.as_default():\n",
    "        tf.summary.scalar('loss', loss, step=i)\n",
    "    # We are returning loss because we want to print it during our training loop\n",
    "    return loss"
   ]
  },
  {
   "cell_type": "markdown",
   "metadata": {},
   "source": [
    "## Section 4: train the model (2.5/3)\n",
    "Make a training loop which iterates through the full training set multiple times, and, for each batch run the train method you wrote earlier. \n",
    "\n",
    "After each epoch, iterate over the test dataset and print the average test accuracy over the whole test set.\n",
    "Finally, use a `Checkpoint` to save the whole graph to disk.\n",
    "\n",
    "Remember to: \n",
    " - Run your trace method once to export your graph to TensorBoard\n",
    " - Give train and test methods step numbers (batch steps)\n",
    "\n",
    "Then, run training.\n",
    "You should expect the model to hit about 90% test-set accuracy.\n",
    "Not bad for a linear model!\n",
    "If it doesn't, it might indicate a bug in your code, or you might need to tune hyperparameters (e.g. batch size, learning rate).\n",
    "The accuracy should sharply jump after the first epoch, so you don't need to wait for the full model to train to know you have a bug. \n",
    "\n",
    "You might notice, looking at the training plots on TensorBoard, how close the training and test errors are.\n",
    "This suggests our model is probably underfitting, and a more powerful model will do better.\n",
    "\n",
    "<sup><sub>My model was showing 20% accuracy and it took over an hour to figure out I was actually just computing accuracy wrong :(</sub></sup>"
   ]
  },
  {
   "cell_type": "code",
   "execution_count": 66,
   "metadata": {
    "tags": []
   },
   "outputs": [
    {
     "name": "stderr",
     "output_type": "stream",
     "text": [
      "2023-05-08 23:54:00.028167: I tensorflow/core/profiler/lib/profiler_session.cc:110] Profiler session initializing.\n",
      "2023-05-08 23:54:00.028187: I tensorflow/core/profiler/lib/profiler_session.cc:125] Profiler session started.\n",
      "2023-05-08 23:54:00.067760: I tensorflow/core/profiler/lib/profiler_session.cc:67] Profiler session collecting data.\n",
      "2023-05-08 23:54:00.067861: I tensorflow/core/profiler/lib/profiler_session.cc:143] Profiler session tear down.\n"
     ]
    },
    {
     "name": "stdout",
     "output_type": "stream",
     "text": [
      "Epoch:\t 0\n",
      "Average Test Set Loss:\t 8.145706\n",
      "Epoch:\t 1\n",
      "Average Test Set Loss:\t 8.133882\n",
      "Epoch:\t 2\n",
      "Average Test Set Loss:\t 8.126498\n",
      "Epoch:\t 3\n",
      "Average Test Set Loss:\t 8.12221\n",
      "Epoch:\t 4\n",
      "Average Test Set Loss:\t 8.118634\n",
      "Epoch:\t 5\n",
      "Average Test Set Loss:\t 8.118627\n",
      "Epoch:\t 6\n",
      "Average Test Set Loss:\t 8.116226\n",
      "Epoch:\t 7\n",
      "Average Test Set Loss:\t 8.11671\n",
      "Epoch:\t 8\n",
      "Average Test Set Loss:\t 8.11582\n",
      "Epoch:\t 9\n",
      "Average Test Set Loss:\t 8.114172\n"
     ]
    }
   ],
   "source": [
    "# TODO: (-0.5) The instructions asked to report the accuracy, which you did not include.\n",
    "\n",
    "n_epochs = 10\n",
    "with tf.device('/cpu:0'):\n",
    "    model = LogisticRegression()\n",
    "    train_batch = 0\n",
    "    test_batch = 0\n",
    "\n",
    "    # Training loop\n",
    "    for i in range(n_epochs):\n",
    "        # Iterate over dataset once\n",
    "        for x, y in dataset_train:  \n",
    "            if train_batch == 0:\n",
    "                # On the first batch, run a full trace\n",
    "                tf.summary.trace_on(graph=True, profiler=True)\n",
    "                # We simply run this operation to add our graph to TensorBoard\n",
    "                with train_writer.as_default():\n",
    "                    tf.summary.trace_export(name='first training batch', step=0, profiler_outdir='../../logs/lab_1_logs')\n",
    "            # Call train iteration\n",
    "            train(model, x, y, train_batch)\n",
    "            train_batch += 1\n",
    "\n",
    "        print('Epoch:\\t', i)\n",
    "        test_losses = [] # Track average loss over test set\n",
    "        for x, y in dataset_test:\n",
    "            test_losses.append(test(model, x, y, test_batch))\n",
    "            # Roughly align test batches with training batches\n",
    "            test_batch += 1\n",
    "\n",
    "        print('Average Test Set Loss:\\t', np.mean(test_losses))\n",
    "\n",
    "    # Save model\n",
    "    checkpoint = tf.train.Checkpoint(model=model)\n",
    "    checkpoint.write('./checkpoints_lecture/model')"
   ]
  },
  {
   "cell_type": "code",
   "execution_count": 23,
   "metadata": {},
   "outputs": [
    {
     "data": {
      "text/plain": [
       "[PhysicalDevice(name='/physical_device:CPU:0', device_type='CPU'),\n",
       " PhysicalDevice(name='/physical_device:GPU:0', device_type='GPU')]"
      ]
     },
     "execution_count": 23,
     "metadata": {},
     "output_type": "execute_result"
    }
   ],
   "source": [
    "tf.config.list_physical_devices()"
   ]
  },
  {
   "cell_type": "markdown",
   "metadata": {},
   "source": [
    "## Section 5: use the model for inference (2/3)\n",
    "Pull one or more examples from the test set and display its image.\n",
    "Then, use your model to predict what digit the image is, print that, and print the true label (which hopefully matches).\n",
    "\n",
    "Remember you'll need to spin up a new instance of your model and checkpoint, then use `Checkpoint.restore()` to load the trained model before inference."
   ]
  },
  {
   "cell_type": "code",
   "execution_count": 68,
   "metadata": {
    "tags": []
   },
   "outputs": [
    {
     "data": {
      "text/plain": [
       "<matplotlib.image.AxesImage at 0x298b80d30>"
      ]
     },
     "execution_count": 68,
     "metadata": {},
     "output_type": "execute_result"
    },
    {
     "data": {
      "image/png": "[encoded data removed]",
      "text/plain": [
       "<Figure size 640x480 with 1 Axes>"
      ]
     },
     "metadata": {},
     "output_type": "display_data"
    }
   ],
   "source": [
    "plt.imshow(np.reshape(x_train[6], (28, 28)))"
   ]
  },
  {
   "cell_type": "code",
   "execution_count": 69,
   "metadata": {
    "tags": []
   },
   "outputs": [
    {
     "name": "stdout",
     "output_type": "stream",
     "text": [
      "[0.098439195304281385 0.1350851877746026 0.094956580222307477 0.097526841179104762 0.10960789767837988 0.079593591619882581 0.08839976212664627 0.11191014230547035 0.10074490208938169 0.083735899699943162]\n",
      "[0.098439195304281385 0.1350851877746026 0.094956580222307477 0.097526841179104762 0.10960789767837988 0.079593591619882581 0.08839976212664627 0.11191014230547035 0.10074490208938169 0.083735899699943162]\n"
     ]
    },
    {
     "name": "stderr",
     "output_type": "stream",
     "text": [
      "2023-05-08 23:58:54.000854: I tensorflow/core/grappler/optimizers/custom_graph_optimizer_registry.cc:113] Plugin optimizer for device_type GPU is enabled.\n",
      "2023-05-08 23:58:54.015722: I tensorflow/core/grappler/optimizers/custom_graph_optimizer_registry.cc:113] Plugin optimizer for device_type GPU is enabled.\n"
     ]
    }
   ],
   "source": [
    "# TODO: (-1) Did not clearly specify output of model (with argmax), nor printed the true label. \n",
    "\n",
    "new_model = LogisticRegression()\n",
    "new_check = tf.train.Checkpoint(model=new_model)\n",
    "new_check.restore('./checkpoints_lecture/model')\n",
    "\n",
    "tf.print(model(x_train[3]), summarize=10)\n",
    "tf.print(new_model(x_train[3]), summarize=10)"
   ]
  },
  {
   "cell_type": "markdown",
   "metadata": {},
   "source": [
    "## Section 6: visualizations (3/3)\n",
    "Visualize, as an image (i.e. `plt.imshow`), the weight matrix for each of the digits.\n",
    "You might want to use the `vmin` and `vmax` arguments to put all of the matrices on the same scale. \n",
    "You'll need to load the weights again to save them to numpy arrays (by accessinging your class).\n",
    "\n",
    "The results are pretty interesting.\n",
    "The image should be brightest where the weights strongly indicate that digit, so you can see what's (linearly) characteristic of different digits -- I see a strong dark spot in the middle for zero, a distinctive curly tail on 2, and a consistent 3.\n",
    "Other digits (e.g. 8 and 9) have much weaker patterns, suggesting greater variation in how people draw them."
   ]
  },
  {
   "cell_type": "code",
   "execution_count": 70,
   "metadata": {
    "tags": []
   },
   "outputs": [
    {
     "data": {
      "text/plain": [
       "<matplotlib.image.AxesImage at 0x2d59f05b0>"
      ]
     },
     "execution_count": 70,
     "metadata": {},
     "output_type": "execute_result"
    },
    {
     "data": {
      "text/plain": [
       "<Figure size 640x480 with 0 Axes>"
      ]
     },
     "metadata": {},
     "output_type": "display_data"
    },
    {
     "data": {
      "image/png": "[encoded data removed]",
      "text/plain": [
       "<Figure size 640x480 with 10 Axes>"
      ]
     },
     "metadata": {},
     "output_type": "display_data"
    }
   ],
   "source": [
    "plt.figure()\n",
    "\n",
    "f, axarr = plt.subplots(2,5)\n",
    "\n",
    "axarr[0, 0].imshow(tf.reshape(new_model.weights[:, 0], [28, 28]))\n",
    "axarr[0, 1].imshow(tf.reshape(new_model.weights[:, 1], [28, 28]))\n",
    "axarr[0, 2].imshow(tf.reshape(new_model.weights[:, 2], [28, 28]))\n",
    "axarr[0, 3].imshow(tf.reshape(new_model.weights[:, 3], [28, 28]))\n",
    "axarr[0, 4].imshow(tf.reshape(new_model.weights[:, 4], [28, 28]))\n",
    "axarr[1, 0].imshow(tf.reshape(new_model.weights[:, 5], [28, 28]))\n",
    "axarr[1, 1].imshow(tf.reshape(new_model.weights[:, 6], [28, 28]))\n",
    "axarr[1, 2].imshow(tf.reshape(new_model.weights[:, 7], [28, 28]))\n",
    "axarr[1, 3].imshow(tf.reshape(new_model.weights[:, 8], [28, 28]))\n",
    "axarr[1, 4].imshow(tf.reshape(new_model.weights[:, 9], [28, 28]))"
   ]
  },
  {
   "cell_type": "code",
   "execution_count": null,
   "metadata": {},
   "outputs": [],
   "source": []
  }
 ],
 "metadata": {
  "kernelspec": {
   "display_name": "Python 3 (ipykernel)",
   "language": "python",
   "name": "python3"
  },
  "language_info": {
   "codemirror_mode": {
    "name": "ipython",
    "version": 3
   },
   "file_extension": ".py",
   "mimetype": "text/x-python",
   "name": "python",
   "nbconvert_exporter": "python",
   "pygments_lexer": "ipython3",
   "version": "3.9.10"
  }
 },
 "nbformat": 4,
 "nbformat_minor": 4
}
