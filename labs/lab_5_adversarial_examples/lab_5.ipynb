{
 "cells": [
  {
   "cell_type": "markdown",
   "metadata": {},
   "source": [
    "# Lab 5: A Black-Box Adversarial Attack\n",
    "In this lab, we'll carry out an adversarial attack in the **black box** case: we don't have the weights of the network we're trying to trick (the **target model**), and instead we can only give it inputs and see its outputs.\n",
    "\n",
    "Black-box adversarial attacks are based on the fact that adversarial examples are _transferable_: if it tricks one network, it will likely trick another (but less well).\n",
    "So, since we need network weights to make adversarial examples, we train a second model, the **surrogate model**, to act like the target model.\n",
    "To do this, we'll use the target model as an \"oracle\" to make a dataset where the features are from real examples, and the labels are the outputs of the target model on those examples.\n",
    "If the surrogate model learns to output the same probabilities as the target model on a given input, its internal representations are likely similar.\n",
    "Then, when we make an adversarial example for the surrogate model, it should also trick the target model.\n",
    "\n",
    "The end result of this lab should be an image which looks close to some image in the dataset, but tricks the target network into assigning high confidence to some other class. "
   ]
  },
  {
   "cell_type": "markdown",
   "metadata": {},
   "source": [
    "## Section 0: Load the data\n",
    "This uses the same dataset as last time, so just copy the data over here in the same format.\n",
    "The same data loading and preprocessing as before is in place."
   ]
  },
  {
   "cell_type": "code",
   "execution_count": 1,
   "metadata": {},
   "outputs": [],
   "source": [
    "%matplotlib inline\n",
    "import numpy as np\n",
    "import tensorflow as tf\n",
    "import matplotlib.pyplot as plt"
   ]
  },
  {
   "cell_type": "code",
   "execution_count": 2,
   "metadata": {},
   "outputs": [],
   "source": [
    "# Seed numpy rng for reproducibility\n",
    "np.random.seed(1337)\n",
    "\n",
    "# Load data\n",
    "x_all = np.load('../lab_4_conv_nets/data/X.npy')\n",
    "y_all = np.load('../lab_4_conv_nets/data/Y.npy')\n",
    "\n",
    "# Maps dataset-provided label to true label\n",
    "label_map = {0:9, 1:0, 2:7, 3:6, 4:1, 5:8, 6:4, 7:3, 8:2, 9:5}\n",
    "\n",
    "# Correct dataset labels\n",
    "for row in range(y_all.shape[0]):\n",
    "    dataset_label = np.where(y_all[row])[0][0]\n",
    "    y_all[row, :] = np.zeros(10)\n",
    "    y_all[row, label_map[dataset_label]] = 1\n",
    "    \n",
    "# Shuffle features and targets together\n",
    "# Credit for this technique to:\n",
    "# https://stackoverflow.com/questions/4601373/\n",
    "# better-way-to-shuffle-two-numpy-arrays-in-unison\n",
    "rng_state = np.random.get_state()\n",
    "np.random.shuffle(x_all)\n",
    "np.random.set_state(rng_state)\n",
    "np.random.shuffle(y_all)\n",
    "\n",
    "# Add a dummy channel axis to input images\n",
    "x_all = np.expand_dims(x_all, axis=-1)\n",
    "\n",
    "# Center and rescale data to the range [-1, 1]\n",
    "x_all = x_all - 0.5\n",
    "x_all = x_all * 2\n",
    "\n",
    "# Create a validation set from 30% of the available data\n",
    "n_points = x_all.shape[0]\n",
    "n_test = int(n_points * 0.3)\n",
    "n_train = n_points - n_test\n",
    "x_train, x_test = np.split(x_all, [n_train], axis=0)\n",
    "y_train, y_test = np.split(y_all, [n_train], axis=0)"
   ]
  },
  {
   "cell_type": "markdown",
   "metadata": {},
   "source": [
    "## Section 1: Train the black-box model\n",
    "Below, I've written a CNN in Keras to classify images from the dataset, and the code to train it.\n",
    "This will act as the \"black box model.\"\n",
    "\n",
    "Train the model using the code below.\n",
    "It should hit about 95-96% validation accuracy on the dataset."
   ]
  },
  {
   "cell_type": "code",
   "execution_count": 3,
   "metadata": {},
   "outputs": [
    {
     "name": "stdout",
     "output_type": "stream",
     "text": [
      "Model: \"model\"\n",
      "_________________________________________________________________\n",
      "Layer (type)                 Output Shape              Param #   \n",
      "=================================================================\n",
      "input_1 (InputLayer)         [(None, 64, 64, 1)]       0         \n",
      "_________________________________________________________________\n",
      "conv2d (Conv2D)              (None, 30, 30, 16)        416       \n",
      "_________________________________________________________________\n",
      "conv2d_1 (Conv2D)            (None, 28, 28, 16)        2320      \n",
      "_________________________________________________________________\n",
      "max_pooling2d (MaxPooling2D) (None, 14, 14, 16)        0         \n",
      "_________________________________________________________________\n",
      "conv2d_2 (Conv2D)            (None, 12, 12, 32)        4640      \n",
      "_________________________________________________________________\n",
      "conv2d_3 (Conv2D)            (None, 10, 10, 32)        9248      \n",
      "_________________________________________________________________\n",
      "max_pooling2d_1 (MaxPooling2 (None, 5, 5, 32)          0         \n",
      "_________________________________________________________________\n",
      "conv2d_4 (Conv2D)            (None, 5, 5, 64)          18496     \n",
      "_________________________________________________________________\n",
      "conv2d_5 (Conv2D)            (None, 5, 5, 64)          36928     \n",
      "_________________________________________________________________\n",
      "max_pooling2d_2 (MaxPooling2 (None, 2, 2, 64)          0         \n",
      "_________________________________________________________________\n",
      "flatten (Flatten)            (None, 256)               0         \n",
      "_________________________________________________________________\n",
      "dense (Dense)                (None, 128)               32896     \n",
      "_________________________________________________________________\n",
      "dense_1 (Dense)              (None, 10)                1290      \n",
      "=================================================================\n",
      "Total params: 106,234\n",
      "Trainable params: 106,234\n",
      "Non-trainable params: 0\n",
      "_________________________________________________________________\n"
     ]
    }
   ],
   "source": [
    "from tensorflow.keras.models import Model\n",
    "from tensorflow.keras.layers import Input, Conv2D, Dense, Flatten, MaxPool2D\n",
    "\n",
    "inputs = Input(shape=(64, 64, 1))\n",
    "layer = Conv2D(16, 5, strides=(2, 2), activation='relu')(inputs)\n",
    "layer = Conv2D(16, 3, activation='relu')(layer)\n",
    "layer = MaxPool2D()(layer)\n",
    "\n",
    "layer = Conv2D(32, 3, activation='relu')(layer)\n",
    "layer = Conv2D(32, 3, activation='relu')(layer)\n",
    "layer = MaxPool2D()(layer)\n",
    "\n",
    "layer = Conv2D(64, 3, padding='same', activation='relu')(layer)\n",
    "layer = Conv2D(64, 3, padding='same', activation='relu')(layer)\n",
    "layer = MaxPool2D()(layer)\n",
    "\n",
    "layer = Flatten()(layer)\n",
    "layer = Dense(128, activation='relu')(layer)\n",
    "probs = Dense(10, activation='softmax')(layer)\n",
    "\n",
    "target_model = Model(inputs, probs)\n",
    "target_model.summary()"
   ]
  },
  {
   "cell_type": "code",
   "execution_count": 4,
   "metadata": {},
   "outputs": [],
   "source": [
    "from tensorflow.keras.optimizers import Adam\n",
    "\n",
    "opt = Adam(1e-3)\n",
    "target_model.compile(opt, loss='categorical_crossentropy',\n",
    "              metrics=['accuracy'])"
   ]
  },
  {
   "cell_type": "code",
   "execution_count": 5,
   "metadata": {
    "scrolled": true
   },
   "outputs": [
    {
     "name": "stdout",
     "output_type": "stream",
     "text": [
      "Epoch 1/15\n",
      "46/46 [==============================] - 2s 42ms/step - loss: 2.1694 - accuracy: 0.1898 - val_loss: 1.4026 - val_accuracy: 0.5761\n",
      "Epoch 2/15\n",
      "46/46 [==============================] - 2s 38ms/step - loss: 0.9021 - accuracy: 0.6988 - val_loss: 0.6220 - val_accuracy: 0.7994\n",
      "Epoch 3/15\n",
      "46/46 [==============================] - 2s 35ms/step - loss: 0.4815 - accuracy: 0.8518 - val_loss: 0.3852 - val_accuracy: 0.8851\n",
      "Epoch 4/15\n",
      "46/46 [==============================] - 2s 35ms/step - loss: 0.3080 - accuracy: 0.9037 - val_loss: 0.3645 - val_accuracy: 0.8981\n",
      "Epoch 5/15\n",
      "46/46 [==============================] - 2s 35ms/step - loss: 0.2107 - accuracy: 0.9314 - val_loss: 0.4439 - val_accuracy: 0.8803\n",
      "Epoch 6/15\n",
      "46/46 [==============================] - 2s 34ms/step - loss: 0.1476 - accuracy: 0.9488 - val_loss: 0.2214 - val_accuracy: 0.9353\n",
      "Epoch 7/15\n",
      "46/46 [==============================] - 2s 35ms/step - loss: 0.0919 - accuracy: 0.9730 - val_loss: 0.2233 - val_accuracy: 0.9466\n",
      "Epoch 8/15\n",
      "46/46 [==============================] - 2s 33ms/step - loss: 0.0559 - accuracy: 0.9875 - val_loss: 0.2476 - val_accuracy: 0.9288\n",
      "Epoch 9/15\n",
      "46/46 [==============================] - 2s 35ms/step - loss: 0.0480 - accuracy: 0.9841 - val_loss: 0.2162 - val_accuracy: 0.9466\n",
      "Epoch 10/15\n",
      "46/46 [==============================] - 2s 34ms/step - loss: 0.0474 - accuracy: 0.9889 - val_loss: 0.2833 - val_accuracy: 0.9320\n",
      "Epoch 11/15\n",
      "46/46 [==============================] - 2s 33ms/step - loss: 0.0425 - accuracy: 0.9910 - val_loss: 0.2611 - val_accuracy: 0.9466\n",
      "Epoch 12/15\n",
      "46/46 [==============================] - 2s 35ms/step - loss: 0.0260 - accuracy: 0.9938 - val_loss: 0.2642 - val_accuracy: 0.9401\n",
      "Epoch 13/15\n",
      "46/46 [==============================] - 2s 35ms/step - loss: 0.0115 - accuracy: 0.9958 - val_loss: 0.3064 - val_accuracy: 0.9482\n",
      "Epoch 14/15\n",
      "46/46 [==============================] - 2s 37ms/step - loss: 0.0325 - accuracy: 0.9882 - val_loss: 0.2699 - val_accuracy: 0.9337\n",
      "Epoch 15/15\n",
      "46/46 [==============================] - 2s 37ms/step - loss: 0.0241 - accuracy: 0.9945 - val_loss: 0.2793 - val_accuracy: 0.9547\n"
     ]
    },
    {
     "data": {
      "text/plain": [
       "<tensorflow.python.keras.callbacks.History at 0x7ff3b9a92bb0>"
      ]
     },
     "execution_count": 5,
     "metadata": {},
     "output_type": "execute_result"
    }
   ],
   "source": [
    "target_model.fit(x_train, y_train, \n",
    "                 validation_data=(x_test, y_test),\n",
    "                 epochs=15)"
   ]
  },
  {
   "cell_type": "markdown",
   "metadata": {},
   "source": [
    "## Section 2: Build an \"oracle dataset\" and data pipeline\n",
    "Now, we'll treat the target model as a black box: pretend we don't have access to its weights or its original input data.\n",
    "In the wild, all we can do is give it inputs and see its outputs.\n",
    "\n",
    "We want to train a surrogate model to act similarly to the target model, so create a fake \"oracle dataset\" where the features are `x_all` and the outputs are the 10-vectors of probability the target model predicts for that input.\n",
    "\n",
    "Then, set up any `tf.data.Dataset` objects you need.\n",
    "In this case we don't have a test set, just a training set. Add `tf.summary.SummaryWriter`s to save logs to `./logs/surrogate` and `./logs/adversarial`."
   ]
  },
  {
   "cell_type": "code",
   "execution_count": 6,
   "metadata": {},
   "outputs": [],
   "source": [
    "# Feed input features to the model and obtain output labels\n",
    "y_or = target_model(x_all)"
   ]
  },
  {
   "cell_type": "code",
   "execution_count": 16,
   "metadata": {},
   "outputs": [
    {
     "data": {
      "text/plain": [
       "TensorShape([2062, 10])"
      ]
     },
     "execution_count": 16,
     "metadata": {},
     "output_type": "execute_result"
    }
   ],
   "source": [
    "np.shape(y_or)"
   ]
  },
  {
   "cell_type": "code",
   "execution_count": 17,
   "metadata": {},
   "outputs": [
    {
     "data": {
      "text/plain": [
       "(2062, 64, 64, 1)"
      ]
     },
     "execution_count": 17,
     "metadata": {},
     "output_type": "execute_result"
    }
   ],
   "source": [
    "np.shape(x_all)"
   ]
  },
  {
   "cell_type": "code",
   "execution_count": 8,
   "metadata": {},
   "outputs": [],
   "source": [
    "batch_size = 32\n",
    "n_examples = x_all.shape[0]\n",
    "\n",
    "\n",
    "dataset = tf.data.Dataset.from_tensor_slices((x_all, y_or))\\\n",
    "                .batch(batch_size).shuffle(n_examples).cache()\n",
    "\n",
    "writer = tf.summary.create_file_writer('../../logs/lab_5_logs/train')"
   ]
  },
  {
   "cell_type": "markdown",
   "metadata": {},
   "source": [
    "## Section 3: Build a surrogate model\n",
    "The surrogate model is designed to act similarly to the target model, so that adversarial examples we create for it will also work on the target model.\n",
    "Feel free to use any architecture you want, but matching the target architecture closely (maybe with a bit more capacity) is a good bet.\n",
    "\n",
    "Copy code from last week's assignment liberally.\n",
    "Most likely, you won't have to write all that much new code in this section.\n",
    "\n",
    "This should involve tensors that:\n",
    " - Act as hidden convolutional and dense layers\n",
    " - Compute the logits and probabilities for a batch of input images\n",
    " - Compute the predicted digit from the probabilities\n",
    " - Compute the mean cross-entropy loss over a batch"
   ]
  },
  {
   "cell_type": "markdown",
   "metadata": {},
   "source": [
    "### 3.1 Dense and convolutional layers\n",
    "Copy the `Dense` and `Conv` classes you wrote last week here. You will need them to construct the graph of your surrogate model."
   ]
  },
  {
   "cell_type": "code",
   "execution_count": 9,
   "metadata": {},
   "outputs": [],
   "source": [
    "class Dense(tf.Module):\n",
    "    def __init__(self, dim_input, dim_output, do_activation=True, postfix='', name=None):\n",
    "        super().__init__(name=name)\n",
    "        with tf.name_scope('dense' + postfix):\n",
    "            self.weights = tf.Variable(tf.initializers.glorot_uniform()(shape=(dim_input, dim_output), dtype=tf.float32), \\\n",
    "                                      name='weights')\n",
    "            self.bias = tf.Variable(tf.zeros_initializer()(shape=(dim_output,), dtype=tf.float32), name='bias')\n",
    "            self.activation = do_activation\n",
    "            \n",
    "    def __call__(self, x):\n",
    "        # Assuming x has shape (n_examples, dim_input)\n",
    "        y = tf.matmul(x, self.weights)\n",
    "        # prod shape: (n_examples, dim_output)\n",
    "        # bias shape: (dim_output,)\n",
    "        # bias should be broadcasted over all examples\n",
    "        y += self.bias\n",
    "        if self.activation:\n",
    "            y = tf.nn.relu(y)\n",
    "        # out shape: (n_examples, dim_output)\n",
    "        return y\n",
    "\n",
    "class Conv(tf.Module):\n",
    "    '''\n",
    "    Creates a convolutional layer module.\n",
    "    \n",
    "    Parameters\n",
    "    ----------\n",
    "    input_channels: int\n",
    "        Number of channels in the input representation.\n",
    "    n_filters: int\n",
    "        Number of channels in the output representation.\n",
    "        Equivalently, number of filters in this layer.\n",
    "    filter_size: int\n",
    "        Width and height of each kernel in the layer's filters.\n",
    "    stride: int\n",
    "        Stride to use in the x and y directions for the\n",
    "        convolution operation.\n",
    "    do_activation: bool\n",
    "        Whether or not to apply ReLU activation.\n",
    "    pool_size: int\n",
    "        If > 1, does max pooling of this size to the\n",
    "        width and height axes of the activation.\n",
    "    postfix: string\n",
    "        Postfix on name and variable scopes in this layer.\n",
    "        Used to simplify visualizations.\n",
    "    name: string\n",
    "        Name of layer\n",
    "        \n",
    "    Returns\n",
    "    -------\n",
    "    A tensor representing the activations of this layer.\n",
    "    '''\n",
    "    def __init__(self, input_channels, n_filters, \n",
    "                 filter_size=3, stride=1,\n",
    "                 do_activation=True, pool_size=1,\n",
    "                 postfix='', name=None):\n",
    "        super().__init__(name=name)\n",
    "        with tf.name_scope('conv' + postfix):\n",
    "            self.stride = stride\n",
    "            self.do_activation = do_activation\n",
    "            self.pool_size = pool_size\n",
    "            \n",
    "            self.filters = tf.Variable(tf.initializers.glorot_uniform()\\\n",
    "                                       (shape=(filter_size, filter_size, input_channels, n_filters)),\\\n",
    "                                       name='filters')\n",
    "            # Just gets broadcasted when adding to (n_examples(?), n_filters, img_size, img_size)?\n",
    "            self.biases = tf.Variable(tf.initializers.glorot_uniform()(shape=(n_filters,)))\n",
    "            \n",
    "    # Might want the unpooled image at some point\n",
    "    def image(self, x):\n",
    "        # x shape: (batch_size, x_size, x_size, n_channels)\n",
    "        # filters shape: (n_filters, ker_size, ker_size, n_channels)\n",
    "        # need stride lengths along each dimension of x\n",
    "        x = tf.nn.conv2d(x, self.filters, (1, self.stride, self.stride, 1), padding='SAME')\n",
    "        # x shape: (batch_size, x_size, x_size, n_filters)\n",
    "        x += self.biases\n",
    "        if self.do_activation:\n",
    "            x = tf.nn.relu(x)\n",
    "        return x\n",
    "            \n",
    "    def __call__(self, x):\n",
    "        x = self.image(x)\n",
    "        if self.pool_size > 1:\n",
    "            x = tf.nn.max_pool(x, ksize=self.pool_size, strides=self.pool_size, padding='VALID')\n",
    "        return x"
   ]
  },
  {
   "cell_type": "markdown",
   "metadata": {},
   "source": [
    "### 3.2: The rest of the model\n",
    "Write a `tf.Module` class called `Surrogate` that uses your classes from last week to be your surrogate model."
   ]
  },
  {
   "cell_type": "markdown",
   "metadata": {},
   "source": [
    "#### 3.2.1: Adversarial noise\n",
    "This is the only part of the model that really differs from last week, and it's a bit tricky.\n",
    "\n",
    "Add a variable to the graph that represents the adversarial noise we'll add to one example.\n",
    "It should be the shape of a single input image and initialized to zeros.\n",
    "In addition, pass (to the `Variable()` constructor) the keyword argument `constraint=lambda x: tf.clip_by_value(x, -0.3, 0.3)`.\n",
    "Every time the variable is updated, it will become the result of the lambda function, which in this case constrains its pixel values to be in the range -0.3 to 0.3.\n",
    "(Equivalently, at every step we re-project the adversarial noise back into a hypercube at the origin with side length 0.6).\n",
    "I found that 0.3 works well, but feel free to change this value -- smaller values will produce less obvious noise, while larger values will produce more successful attacks. \n",
    "\n",
    "Add a boolean `tf.Variable` (default False) named \"use_noise\" to the graph.\n",
    "This will act as a \"switch\" controlling whether a given run uses adversarial noise. Additionally, add the argument `trainable=False` to the constructor, as it makes no sense to update this variable during training.\n",
    "\n",
    "Add a `tf.cond()` operation that, depending on `use_noise`, switches between the input image and the image plus the adversarial noise.\n",
    "This allows us to train the surrogate model without adversarial noise, then enable it when crafting the adversarial example."
   ]
  },
  {
   "cell_type": "code",
   "execution_count": 10,
   "metadata": {},
   "outputs": [],
   "source": [
    "x = tf.Variable(tf.zeros((64, 64, 1)))"
   ]
  },
  {
   "cell_type": "code",
   "execution_count": 38,
   "metadata": {},
   "outputs": [],
   "source": [
    "# inputs = Input(shape=(64, 64, 1))\n",
    "# layer = Conv2D(16, 5, strides=(2, 2), activation='relu')(inputs)\n",
    "# layer = Conv2D(16, 3, activation='relu')(layer)\n",
    "# layer = MaxPool2D()(layer)\n",
    "\n",
    "# layer = Conv2D(32, 3, activation='relu')(layer)\n",
    "# layer = Conv2D(32, 3, activation='relu')(layer)\n",
    "# layer = MaxPool2D()(layer)\n",
    "\n",
    "# layer = Conv2D(64, 3, padding='same', activation='relu')(layer)\n",
    "# layer = Conv2D(64, 3, padding='same', activation='relu')(layer)\n",
    "# layer = MaxPool2D()(layer)\n",
    "\n",
    "# layer = Flatten()(layer)\n",
    "# layer = Dense(128, activation='relu')(layer)\n",
    "# probs = Dense(10, activation='softmax')(layer)\n",
    "\n",
    "class Surrogate(tf.Module):\n",
    "    def __init__(self, use_noise=False, name=None):\n",
    "        self.noise = tf.Variable(tf.zeros((64, 64, 1)), constraint=lambda x: tf.clip_by_value(x, -0.3, 0.3))\n",
    "        self.use_noise = tf.Variable(use_noise, trainable=False)\n",
    "\n",
    "        # Put convolutional and dense layers here.\n",
    "        # input shape: (n_examples, 64, 64, 1)\n",
    "        self.conv_1 = Conv(1, 16, filter_size=5, stride=2, postfix='_1')\n",
    "        self.conv_2 = Conv(16, 16, filter_size=3, pool_size=2, postfix='_2')\n",
    "        # out shape: (n_examples, 32, 32, 16)\n",
    "        \n",
    "        self.conv_3 = Conv(16, 32, filter_size=3, postfix='_3')\n",
    "        self.conv_4 = Conv(32, 32, filter_size=3, pool_size=2, postfix='_4')\n",
    "        # out shape: (n_examples, 16, 16, 32)\n",
    "        \n",
    "        self.conv_5 = Conv(32, 64, filter_size=3, postfix='_4')\n",
    "        self.conv_6 = Conv(64, 64, filter_size=3, pool_size=2, postfix='_4')\n",
    "        # out shape: (n_examples, 8, 8, 64)\n",
    "        \n",
    "        self.dense_1 = Dense(4 * 4 * 64, 128, postfix='_1')\n",
    "        self.dense_2 = Dense(128, 10, do_activation=False, postfix='_2')\n",
    "        \n",
    "    def logits(self, x):\n",
    "        x = tf.cond(self.use_noise, lambda: tf.add(x, self.noise), lambda: x)\n",
    "\n",
    "        x = self.conv_1(x)\n",
    "        x = self.conv_2(x)\n",
    "        x = self.conv_3(x)\n",
    "        x = self.conv_4(x)\n",
    "        x = self.conv_5(x)\n",
    "        x = self.conv_6(x)\n",
    "        # out shape: (32, 4, 4, 64)\n",
    "        \n",
    "        # -1 is inferred to be batch size\n",
    "        # batch size goes from 32 to 16, here.\n",
    "        x = tf.reshape(x, [-1, 4 * 4 * 64])\n",
    "        # out shape: (16, 2048)\n",
    "        x = self.dense_1(x)\n",
    "        x = self.dense_2(x)\n",
    "        return x\n",
    "    \n",
    "    @tf.function\n",
    "    def __call__(self, x):\n",
    "        x = self.logits(x)\n",
    "        x = tf.nn.softmax(x)\n",
    "        return x"
   ]
  },
  {
   "cell_type": "markdown",
   "metadata": {},
   "source": [
    "### 3.3: Compute cross-entropy loss\n",
    "Write a `_loss` function to compute the cross-entropy loss."
   ]
  },
  {
   "cell_type": "code",
   "execution_count": 12,
   "metadata": {},
   "outputs": [],
   "source": [
    "def _loss(target, actual):\n",
    "    loss_per_example = tf.nn.softmax_cross_entropy_with_logits(target, actual)\n",
    "    loss_batch = tf.reduce_mean(loss_per_example)\n",
    "    return loss_batch"
   ]
  },
  {
   "cell_type": "markdown",
   "metadata": {},
   "source": [
    "### 3.4: Surrogate and adversarial loss and gradients\n",
    "Add an optimizer and train method we'll use to train the surrogate model to act like the target model.\n",
    "It should just minimize the cross-entropy loss between the model's predictions and the targets. When `use_noise` is false, we will not have any gradients to update the adversarial noise tensor with because it will not be referenced in our computation. This will cause TensorFlow to throw (very annoying) warning messages about nonexistent gradients. To suppress this, we can use this neat trick (credit [here](https://stackoverflow.com/questions/60022462/how-to-suppress-specific-warning-in-tensorflow-python)) to preprocess our gradients,\n",
    "```\n",
    "gradients = g.gradient(loss, model.trainable_variables)\n",
    "surrogate_optimizer.apply_gradients( \n",
    "                            (grad, var) for (grad, var) in zip(gradients, model.trainable_variables)\n",
    "                             if grad is not None)\n",
    "```\n",
    "\n",
    "When training the surrogate model, we want to change the model parameters to minimize the loss.\n",
    "When creating the adversarial example, we want to do something very different: _change the adversarial noise tensor alone to maximize the loss_.\n",
    "\n",
    "So, add an `adversarial=False` argument to your train method so we can toggle whether or not to train the surrogate model, or the adversarial noise.\n",
    "\n",
    "Define a new adversarial loss which is the negative of the original loss, and a new optimizer to minimize it.\n",
    "When you call `minimize()`, pass in the keyword argument `var_list=[model.noise]`, where \"noise\" is the name of your adversarial noise tensor.\n",
    "This will prevent the optimizer from changing the weights of the model when we optimize the adversarial noise.\n",
    "\n",
    "Add a summary scalar to plot the adversarial loss decreasing. Then, add a summary histogram and a summary image for the adversarial noise tensor, so we can plot it as we're learning the adversarial example.\n",
    "Finally, add a summary image for the output of `cond`, which will be our adversarial example later."
   ]
  },
  {
   "cell_type": "code",
   "execution_count": null,
   "metadata": {},
   "outputs": [],
   "source": [
    "def _accuracy(x_hat, y):\n",
    "    actual = tf.argmax(x_hat, axis=1)\n",
    "    target = tf.argmax(y, axis=1)\n",
    "    comp = tf.math.equal(target, actual)\n",
    "    comp = tf.cast(comp, dtype=tf.float32)\n",
    "    accuracy = tf.reduce_mean(comp)\n",
    "    return accuracy\n",
    "\n",
    "def train(model, optimizer, x, y, i, adversarial=False):\n",
    "    if not adversarial:\n",
    "        with tf.GradientTape() as g:\n",
    "            # WHY don't we use the probabilities, again?\n",
    "            # cross entropy with logits does the softmax for us\n",
    "            logits = model.logits(x)\n",
    "            # print(np.shape(logits), np.shape(y))\n",
    "            loss = _loss(y, logits)\n",
    "\n",
    "        gradients = g.gradient(loss, model.trainable_variables)\n",
    "        optimizer.apply_gradients((grad, var) for (grad, var) in zip(gradients, model.trainable_variables)\n",
    "                         if grad is not None)\n",
    "\n",
    "        x_hat = model(x)\n",
    "        accuracy = _accuracy(x_hat, tf.cast(y, dtype=tf.float32))\n",
    "\n",
    "        with writer.as_default():\n",
    "            tf.summary.scalar('training_loss', loss, step=i)\n",
    "            tf.summary.scalar('training_accuracy', accuracy, step=i)\n",
    "        return loss, accuracy\n",
    "                \n",
    "\n",
    "    else:\n",
    "        with tf.GradientTape() as g:\n",
    "            # WHY don't we use the probabilities, again?\n",
    "            # cross entropy with logits does the softmax for us\n",
    "            adv_loss = -1 * _loss(y, model.logits(x))\n",
    "            \n",
    "        var_list = [model.noise]\n",
    "        gradients = g.gradient(adv_loss, var_list)\n",
    "        optimizer.apply_gradients(zip(gradients, var_list))\n",
    "        \n",
    "        x_hat = model(x)\n",
    "        accuracy = _accuracy(x_hat, tf.cast(y, dtype=tf.float32))\n",
    "        \n",
    "        with writer.as_default():\n",
    "            tf.summary.scalar('adv_loss', adv"
   ]
  },
  {
   "cell_type": "code",
   "execution_count": 51,
   "metadata": {},
   "outputs": [],
   "source": [
    "def _accuracy(x_hat, y):\n",
    "    actual = tf.argmax(x_hat, axis=1)\n",
    "    target = tf.argmax(y, axis=1)\n",
    "    comp = tf.math.equal(target, actual)\n",
    "    comp = tf.cast(comp, dtype=tf.float32)\n",
    "    accuracy = tf.reduce_mean(comp)\n",
    "    return accuracy\n",
    "\n",
    "def train(model, optimizer, x, y, i, adversarial=False):\n",
    "    if not adversarial:\n",
    "        with tf.GradientTape() as g:\n",
    "            # WHY don't we use the probabilities, again?\n",
    "            # cross entropy with logits does the softmax for us\n",
    "            logits = model.logits(x)\n",
    "            # print(np.shape(logits), np.shape(y))\n",
    "            loss = _loss(y, logits)\n",
    "\n",
    "        gradients = g.gradient(loss, model.trainable_variables)\n",
    "        optimizer.apply_gradients((grad, var) for (grad, var) in zip(gradients, model.trainable_variables)\n",
    "                         if grad is not None)\n",
    "\n",
    "        x_hat = model(x)\n",
    "        accuracy = _accuracy(x_hat, tf.cast(y, dtype=tf.float32))\n",
    "\n",
    "        with writer.as_default():\n",
    "            tf.summary.scalar('training_loss', loss, step=i)\n",
    "            tf.summary.scalar('training_accuracy', accuracy, step=i)\n",
    "        return loss, accuracy\n",
    "                \n",
    "\n",
    "    else:\n",
    "        with tf.GradientTape() as g:\n",
    "            # WHY don't we use the probabilities, again?\n",
    "            # cross entropy with logits does the softmax for us\n",
    "            adv_loss = -1 * _loss(y, model.logits(x))\n",
    "            \n",
    "        var_list = [model.noise]\n",
    "        gradients = g.gradient(adv_loss, var_list)\n",
    "        optimizer.apply_gradients(zip(gradients, var_list))\n",
    "        \n",
    "        x_hat = model(x)\n",
    "        accuracy = _accuracy(x_hat, tf.cast(y, dtype=tf.float32))\n",
    "        \n",
    "        with writer.as_default():\n",
    "            tf.summary.scalar('adv_loss', adv_loss, step=i)\n",
    "        return adv_loss, accuracy"
   ]
  },
  {
   "cell_type": "markdown",
   "metadata": {},
   "source": [
    "## Section 4: Train the surrogate model\n",
    "Train your surrogate model until it hits high accuracy.\n",
    "At the very least it should have 90% accuracy -- I hit 98-100% on the training set.\n",
    "Overfitting isn't really a concern here since we are actually trying to memorize the target model.\n",
    "\n",
    "When the training loop is done, save the model under `./checkpoints/model_surrogate`.\n",
    "We won't be modifying this particular checkpoint any more, it'll contain the fully-trained surrogate model with zero adversarial noise."
   ]
  },
  {
   "cell_type": "code",
   "execution_count": 48,
   "metadata": {},
   "outputs": [
    {
     "name": "stdout",
     "output_type": "stream",
     "text": [
      "Epoch\t 0\n",
      "Average Loss:\t 2.3061082\n",
      "Average Accuracy:\t 0.15625\n",
      "Epoch\t 1\n",
      "Average Loss:\t 2.3031814\n",
      "Average Accuracy:\t 0.15625\n",
      "Epoch\t 2\n",
      "Average Loss:\t 2.3022132\n",
      "Average Accuracy:\t 0.15625\n",
      "Epoch\t 3\n",
      "Average Loss:\t 2.3011086\n",
      "Average Accuracy:\t 0.15625\n",
      "Epoch\t 4\n",
      "Average Loss:\t 2.2998402\n",
      "Average Accuracy:\t 0.15625\n",
      "Epoch\t 5\n",
      "Average Loss:\t 2.2982323\n",
      "Average Accuracy:\t 0.15625\n",
      "Epoch\t 6\n",
      "Average Loss:\t 2.29591\n",
      "Average Accuracy:\t 0.15625\n",
      "Epoch\t 7\n",
      "Average Loss:\t 2.292413\n",
      "Average Accuracy:\t 0.125\n",
      "Epoch\t 8\n",
      "Average Loss:\t 2.287163\n",
      "Average Accuracy:\t 0.21875\n",
      "Epoch\t 9\n",
      "Average Loss:\t 2.2788064\n",
      "Average Accuracy:\t 0.25\n",
      "Epoch\t 10\n",
      "Average Loss:\t 2.265797\n",
      "Average Accuracy:\t 0.21875\n",
      "Epoch\t 11\n",
      "Average Loss:\t 2.241939\n",
      "Average Accuracy:\t 0.3125\n",
      "Epoch\t 12\n",
      "Average Loss:\t 2.1892462\n",
      "Average Accuracy:\t 0.3125\n",
      "Epoch\t 13\n",
      "Average Loss:\t 2.0436065\n",
      "Average Accuracy:\t 0.3125\n",
      "Epoch\t 14\n",
      "Average Loss:\t 1.664696\n",
      "Average Accuracy:\t 0.53125\n",
      "Epoch\t 15\n",
      "Average Loss:\t 1.1665877\n",
      "Average Accuracy:\t 0.65625\n",
      "Epoch\t 16\n",
      "Average Loss:\t 0.85757977\n",
      "Average Accuracy:\t 0.71875\n",
      "Epoch\t 17\n",
      "Average Loss:\t 0.6745438\n",
      "Average Accuracy:\t 0.84375\n",
      "Epoch\t 18\n",
      "Average Loss:\t 0.5541002\n",
      "Average Accuracy:\t 0.84375\n",
      "Epoch\t 19\n",
      "Average Loss:\t 0.43118533\n",
      "Average Accuracy:\t 0.90625\n",
      "Epoch\t 20\n",
      "Average Loss:\t 0.34501746\n",
      "Average Accuracy:\t 0.90625\n",
      "Epoch\t 21\n",
      "Average Loss:\t 0.29179493\n",
      "Average Accuracy:\t 0.90625\n",
      "Epoch\t 22\n",
      "Average Loss:\t 0.24685396\n",
      "Average Accuracy:\t 0.90625\n",
      "Epoch\t 23\n",
      "Average Loss:\t 0.211923\n",
      "Average Accuracy:\t 0.9375\n",
      "Epoch\t 24\n",
      "Average Loss:\t 0.18047868\n",
      "Average Accuracy:\t 0.9375\n",
      "Epoch\t 25\n",
      "Average Loss:\t 0.14784312\n",
      "Average Accuracy:\t 0.9375\n",
      "Epoch\t 26\n",
      "Average Loss:\t 0.12262172\n",
      "Average Accuracy:\t 0.96875\n",
      "Epoch\t 27\n",
      "Average Loss:\t 0.10417663\n",
      "Average Accuracy:\t 0.96875\n",
      "Epoch\t 28\n",
      "Average Loss:\t 0.092252165\n",
      "Average Accuracy:\t 1.0\n",
      "Epoch\t 29\n",
      "Average Loss:\t 0.08231854\n",
      "Average Accuracy:\t 1.0\n",
      "Epoch\t 30\n",
      "Average Loss:\t 0.073410206\n",
      "Average Accuracy:\t 1.0\n",
      "Epoch\t 31\n",
      "Average Loss:\t 0.068922356\n",
      "Average Accuracy:\t 1.0\n",
      "Epoch\t 32\n",
      "Average Loss:\t 0.0596122\n",
      "Average Accuracy:\t 1.0\n",
      "Epoch\t 33\n",
      "Average Loss:\t 0.054589596\n",
      "Average Accuracy:\t 1.0\n",
      "Epoch\t 34\n",
      "Average Loss:\t 0.058310527\n",
      "Average Accuracy:\t 1.0\n",
      "Epoch\t 35\n",
      "Average Loss:\t 0.055190533\n",
      "Average Accuracy:\t 1.0\n",
      "Epoch\t 36\n",
      "Average Loss:\t 0.05221054\n",
      "Average Accuracy:\t 1.0\n",
      "Epoch\t 37\n",
      "Average Loss:\t 0.047513187\n",
      "Average Accuracy:\t 1.0\n",
      "Epoch\t 38\n",
      "Average Loss:\t 0.045566518\n",
      "Average Accuracy:\t 1.0\n",
      "Epoch\t 39\n",
      "Average Loss:\t 0.044042964\n",
      "Average Accuracy:\t 1.0\n",
      "Epoch\t 40\n",
      "Average Loss:\t 0.042073622\n",
      "Average Accuracy:\t 1.0\n",
      "Epoch\t 41\n",
      "Average Loss:\t 0.03731677\n",
      "Average Accuracy:\t 1.0\n",
      "Epoch\t 42\n",
      "Average Loss:\t 0.036713522\n",
      "Average Accuracy:\t 1.0\n",
      "Epoch\t 43\n",
      "Average Loss:\t 0.035960972\n",
      "Average Accuracy:\t 1.0\n",
      "Epoch\t 44\n",
      "Average Loss:\t 0.035287727\n",
      "Average Accuracy:\t 1.0\n",
      "Epoch\t 45\n",
      "Average Loss:\t 0.034974024\n",
      "Average Accuracy:\t 1.0\n",
      "Epoch\t 46\n",
      "Average Loss:\t 0.03416731\n",
      "Average Accuracy:\t 1.0\n",
      "Epoch\t 47\n",
      "Average Loss:\t 0.035057638\n",
      "Average Accuracy:\t 1.0\n",
      "Epoch\t 48\n",
      "Average Loss:\t 0.032363288\n",
      "Average Accuracy:\t 1.0\n",
      "Epoch\t 49\n",
      "Average Loss:\t 0.033417463\n",
      "Average Accuracy:\t 1.0\n"
     ]
    },
    {
     "data": {
      "text/plain": [
       "'../../logs/lab_5_checkpoints'"
      ]
     },
     "execution_count": 48,
     "metadata": {},
     "output_type": "execute_result"
    }
   ],
   "source": [
    "optimizer = tf.optimizers.SGD(1e-3, momentum=0.9)\n",
    "\n",
    "model = Surrogate()\n",
    "batch = 0\n",
    "n_epochs = 50\n",
    "\n",
    "for i in range(n_epochs):\n",
    "    losses = []\n",
    "    accuracies = []\n",
    "    for x, y in dataset:\n",
    "        # print(np.shape(x), np.shape(y))\n",
    "        if batch == 0:\n",
    "            tf.summary.trace_on(graph=True, profiler=True)\n",
    "            with writer.as_default():\n",
    "                tf.summary.trace_export(name='first training batch', step=0, profiler_outdir='../../logs/lab_5_logs')\n",
    "        loss, accuracy = train(model, optimizer, x, y, batch)\n",
    "        losses.append(loss)\n",
    "        accuracies.append(accuracy)\n",
    "        batch += 1\n",
    "\n",
    "    print('Epoch\\t', i)\n",
    "    print('Average Loss:\\t', np.mean(losses))\n",
    "    print('Average Accuracy:\\t', np.mean(accuracy))\n",
    "    \n",
    "checkpoint = tf.train.Checkpoint(model=model)\n",
    "checkpoint.write('../../logs/lab_5_checkpoints')"
   ]
  },
  {
   "cell_type": "markdown",
   "metadata": {},
   "source": [
    "## Section 5: Learn the adversarial example\n",
    "Finally, it's time to create an adversarial example using our surrogate model.\n",
    "Pick an image from the test set (or use the one I picked below), then run a training loop to minimize the adversarial loss (equivalently, maximize the model loss on that example).\n",
    "To do this, use `surrogate_model.use_noise.assign(True)`.\n",
    "This turns on the `use_noise` switch we set before, and overwrites the input image with the image we're going to turn into an adversarial example.\n",
    "\n",
    "When it's done, save it to a new checkpoint, `./checkpoints/model_adversarial`.\n",
    "This new checkpoint should have exactly the same model parameters as before (remember that we're only optimizing the noise), but a nonzero noise tensor.\n",
    "\n",
    "At the end, also save the adversarial example (which will be contained in the result of your `cond`) and the noise tensor to a numpy array so we can use them later.\n",
    "\n",
    "Periodically write the image and histogram summaries so you can look at them in TensorBoard later. \n",
    "\n",
    "You should be able to do this just by setting `adversarial=True` in your train method."
   ]
  },
  {
   "cell_type": "code",
   "execution_count": 49,
   "metadata": {},
   "outputs": [
    {
     "data": {
      "text/plain": [
       "Text(0.5, 1.0, 'True label: 9')"
      ]
     },
     "execution_count": 49,
     "metadata": {},
     "output_type": "execute_result"
    },
    {
     "data": {
      "image/png": "[encoded data removed]",
      "text/plain": [
       "<Figure size 432x288 with 1 Axes>"
      ]
     },
     "metadata": {
      "needs_background": "light"
     },
     "output_type": "display_data"
    }
   ],
   "source": [
    "# Pick and plot the image we'll turn into an adversarial example\n",
    "idx = 1\n",
    "img = x_test[idx]\n",
    "lbl = y_test[idx]\n",
    "\n",
    "plt.imshow(img[:, :, 0], cmap='gray')\n",
    "plt.title('True label: {}'.format(np.argmax(lbl)))"
   ]
  },
  {
   "cell_type": "code",
   "execution_count": 54,
   "metadata": {
    "scrolled": true
   },
   "outputs": [
    {
     "name": "stdout",
     "output_type": "stream",
     "text": [
      "Epoch\t 0\n",
      "Average Loss:\t 0.3548084497451782\n",
      "Average Accuracy:\t 0.4375\n",
      "Epoch\t 1\n",
      "Average Loss:\t 21.216365814208984\n",
      "Average Accuracy:\t 0.125\n",
      "Epoch\t 2\n",
      "Average Loss:\t 32.19492721557617\n",
      "Average Accuracy:\t 0.09375\n",
      "Epoch\t 3\n",
      "Average Loss:\t 33.2396125793457\n",
      "Average Accuracy:\t 0.09375\n",
      "Epoch\t 4\n",
      "Average Loss:\t 33.57716751098633\n",
      "Average Accuracy:\t 0.09375\n",
      "Epoch\t 5\n",
      "Average Loss:\t 33.737220764160156\n",
      "Average Accuracy:\t 0.09375\n",
      "Epoch\t 6\n",
      "Average Loss:\t 33.81489944458008\n",
      "Average Accuracy:\t 0.09375\n",
      "Epoch\t 7\n",
      "Average Loss:\t 33.848907470703125\n",
      "Average Accuracy:\t 0.09375\n",
      "Epoch\t 8\n",
      "Average Loss:\t 33.874080657958984\n",
      "Average Accuracy:\t 0.09375\n",
      "Epoch\t 9\n",
      "Average Loss:\t 33.89487075805664\n",
      "Average Accuracy:\t 0.09375\n",
      "Epoch\t 10\n",
      "Average Loss:\t 33.906612396240234\n",
      "Average Accuracy:\t 0.09375\n",
      "Epoch\t 11\n",
      "Average Loss:\t 33.91423416137695\n",
      "Average Accuracy:\t 0.09375\n",
      "Epoch\t 12\n",
      "Average Loss:\t 33.91941833496094\n",
      "Average Accuracy:\t 0.09375\n",
      "Epoch\t 13\n",
      "Average Loss:\t 33.92448043823242\n",
      "Average Accuracy:\t 0.09375\n",
      "Epoch\t 14\n",
      "Average Loss:\t 33.929527282714844\n",
      "Average Accuracy:\t 0.09375\n",
      "Epoch\t 15\n",
      "Average Loss:\t 33.93489456176758\n",
      "Average Accuracy:\t 0.09375\n",
      "Epoch\t 16\n",
      "Average Loss:\t 33.94190216064453\n",
      "Average Accuracy:\t 0.09375\n",
      "Epoch\t 17\n",
      "Average Loss:\t 33.94845962524414\n",
      "Average Accuracy:\t 0.09375\n",
      "Epoch\t 18\n",
      "Average Loss:\t 33.95359802246094\n",
      "Average Accuracy:\t 0.09375\n",
      "Epoch\t 19\n",
      "Average Loss:\t 33.95709228515625\n",
      "Average Accuracy:\t 0.09375\n",
      "Epoch\t 20\n",
      "Average Loss:\t 33.95977783203125\n",
      "Average Accuracy:\t 0.09375\n",
      "Epoch\t 21\n",
      "Average Loss:\t 33.96138381958008\n",
      "Average Accuracy:\t 0.09375\n",
      "Epoch\t 22\n",
      "Average Loss:\t 33.96263885498047\n",
      "Average Accuracy:\t 0.09375\n",
      "Epoch\t 23\n",
      "Average Loss:\t 33.96403121948242\n",
      "Average Accuracy:\t 0.09375\n",
      "Epoch\t 24\n",
      "Average Loss:\t 33.9655647277832\n",
      "Average Accuracy:\t 0.09375\n",
      "Epoch\t 25\n",
      "Average Loss:\t 33.96696853637695\n",
      "Average Accuracy:\t 0.09375\n",
      "Epoch\t 26\n",
      "Average Loss:\t 33.968692779541016\n",
      "Average Accuracy:\t 0.09375\n",
      "Epoch\t 27\n",
      "Average Loss:\t 33.9694938659668\n",
      "Average Accuracy:\t 0.09375\n",
      "Epoch\t 28\n",
      "Average Loss:\t 33.96998596191406\n",
      "Average Accuracy:\t 0.09375\n",
      "Epoch\t 29\n",
      "Average Loss:\t 33.97030258178711\n",
      "Average Accuracy:\t 0.09375\n",
      "Epoch\t 30\n",
      "Average Loss:\t 33.97059631347656\n",
      "Average Accuracy:\t 0.09375\n",
      "Epoch\t 31\n",
      "Average Loss:\t 33.97101593017578\n",
      "Average Accuracy:\t 0.09375\n",
      "Epoch\t 32\n",
      "Average Loss:\t 33.9713134765625\n",
      "Average Accuracy:\t 0.09375\n",
      "Epoch\t 33\n",
      "Average Loss:\t 33.97158432006836\n",
      "Average Accuracy:\t 0.09375\n",
      "Epoch\t 34\n",
      "Average Loss:\t 33.971900939941406\n",
      "Average Accuracy:\t 0.09375\n",
      "Epoch\t 35\n",
      "Average Loss:\t 33.97220230102539\n",
      "Average Accuracy:\t 0.09375\n",
      "Epoch\t 36\n",
      "Average Loss:\t 33.97237777709961\n",
      "Average Accuracy:\t 0.09375\n",
      "Epoch\t 37\n",
      "Average Loss:\t 33.972572326660156\n",
      "Average Accuracy:\t 0.09375\n",
      "Epoch\t 38\n",
      "Average Loss:\t 33.972755432128906\n",
      "Average Accuracy:\t 0.09375\n",
      "Epoch\t 39\n",
      "Average Loss:\t 33.97285079956055\n",
      "Average Accuracy:\t 0.09375\n",
      "Epoch\t 40\n",
      "Average Loss:\t 33.972999572753906\n",
      "Average Accuracy:\t 0.09375\n",
      "Epoch\t 41\n",
      "Average Loss:\t 33.9731559753418\n",
      "Average Accuracy:\t 0.09375\n",
      "Epoch\t 42\n",
      "Average Loss:\t 33.97324752807617\n",
      "Average Accuracy:\t 0.09375\n",
      "Epoch\t 43\n",
      "Average Loss:\t 33.973388671875\n",
      "Average Accuracy:\t 0.09375\n",
      "Epoch\t 44\n",
      "Average Loss:\t 33.973514556884766\n",
      "Average Accuracy:\t 0.09375\n",
      "Epoch\t 45\n",
      "Average Loss:\t 33.97367477416992\n",
      "Average Accuracy:\t 0.09375\n",
      "Epoch\t 46\n",
      "Average Loss:\t 33.973838806152344\n",
      "Average Accuracy:\t 0.09375\n",
      "Epoch\t 47\n",
      "Average Loss:\t 33.97391891479492\n",
      "Average Accuracy:\t 0.09375\n",
      "Epoch\t 48\n",
      "Average Loss:\t 33.97401809692383\n",
      "Average Accuracy:\t 0.09375\n",
      "Epoch\t 49\n",
      "Average Loss:\t 33.974220275878906\n",
      "Average Accuracy:\t 0.09375\n"
     ]
    },
    {
     "data": {
      "text/plain": [
       "'../../logs/lab_5_checkpoints/adv'"
      ]
     },
     "execution_count": 54,
     "metadata": {},
     "output_type": "execute_result"
    }
   ],
   "source": [
    "# We want to train the same model that we just trained above to screw up.\n",
    "# Do we use the same optimizer? I don't think we have to, because the saved weights are in the model.\n",
    "\n",
    "model.use_noise.assign(True)\n",
    "optimizer = tf.optimizers.SGD(5e-2, momentum=0.9)\n",
    "\n",
    "batch = 0\n",
    "n_epochs = 50\n",
    "\n",
    "for i in range(n_epochs):\n",
    "    losses = []\n",
    "    accuracies = []\n",
    "    for x, y in dataset:\n",
    "        if batch == 0:\n",
    "            tf.summary.trace_on(graph=True, profiler=True)\n",
    "            with writer.as_default():\n",
    "                tf.summary.trace_export(name='first training batch', step=0, profiler_outdir='../../logs/lab_5_logs/adv')\n",
    "        loss, accuracy = train(model, optimizer, x, y, batch, adversarial=True)\n",
    "        losses.append(loss)\n",
    "        accuracies.append(accuracy)\n",
    "        batch += 1\n",
    "\n",
    "    print('Epoch\\t', i)\n",
    "    print('Average Loss:\\t', -1 * np.mean(losses))\n",
    "    print('Average Accuracy:\\t', np.mean(accuracy))\n",
    "    \n",
    "checkpoint = tf.train.Checkpoint(model=model)\n",
    "checkpoint.write('../../logs/lab_5_checkpoints/adv')"
   ]
  },
  {
   "cell_type": "markdown",
   "metadata": {},
   "source": [
    "## Section 6: Visualize the adversarial example\n",
    "Plot the original example, the adversarial example, and the adversarial noise below."
   ]
  },
  {
   "cell_type": "code",
   "execution_count": null,
   "metadata": {},
   "outputs": [],
   "source": [
    "# Your code here"
   ]
  },
  {
   "cell_type": "markdown",
   "metadata": {},
   "source": [
    "## Section 7: Demonstrate that the surrogate model fails on the adversarial example\n",
    "Compute the surrogate model's prediction and probability for the original example and the adversarial example, and compare them. Remember to set the `use_noise` switch to false when computing predictions."
   ]
  },
  {
   "cell_type": "code",
   "execution_count": 70,
   "metadata": {},
   "outputs": [
    {
     "data": {
      "text/plain": [
       "<matplotlib.image.AxesImage at 0x7ff36c2c2d90>"
      ]
     },
     "execution_count": 70,
     "metadata": {},
     "output_type": "execute_result"
    },
    {
     "data": {
      "image/png": "[encoded data removed]",
      "text/plain": [
       "<Figure size 432x288 with 1 Axes>"
      ]
     },
     "metadata": {
      "needs_background": "light"
     },
     "output_type": "display_data"
    }
   ],
   "source": [
    "noise = model.noise[:, :, 0]\n",
    "plt.imshow(noise)"
   ]
  },
  {
   "cell_type": "code",
   "execution_count": 85,
   "metadata": {},
   "outputs": [
    {
     "data": {
      "text/plain": [
       "<matplotlib.image.AxesImage at 0x7ff36d8ffd30>"
      ]
     },
     "execution_count": 85,
     "metadata": {},
     "output_type": "execute_result"
    },
    {
     "data": {
      "image/png": "[encoded data removed]",
      "text/plain": [
       "<Figure size 432x288 with 1 Axes>"
      ]
     },
     "metadata": {
      "needs_background": "light"
     },
     "output_type": "display_data"
    }
   ],
   "source": [
    "example = x_all[10, :, :, 0]\n",
    "plt.imshow(example)"
   ]
  },
  {
   "cell_type": "code",
   "execution_count": 86,
   "metadata": {},
   "outputs": [
    {
     "data": {
      "text/plain": [
       "<matplotlib.image.AxesImage at 0x7ff36d9774c0>"
      ]
     },
     "execution_count": 86,
     "metadata": {},
     "output_type": "execute_result"
    },
    {
     "data": {
      "image/png": "[encoded data removed]",
      "text/plain": [
       "<Figure size 432x288 with 1 Axes>"
      ]
     },
     "metadata": {
      "needs_background": "light"
     },
     "output_type": "display_data"
    }
   ],
   "source": [
    "adv_example = example + noise\n",
    "plt.imshow(adv_example)"
   ]
  },
  {
   "cell_type": "code",
   "execution_count": 87,
   "metadata": {},
   "outputs": [
    {
     "name": "stdout",
     "output_type": "stream",
     "text": [
      "[0. 0. 0. 0. 0. 0. 1. 0. 0. 0.]\n",
      "tf.Tensor(\n",
      "[[1.2810087e-27 1.0000000e+00 9.9703806e-13 3.0369963e-14 1.1613867e-33\n",
      "  1.4807404e-33 2.1341535e-26 9.8268739e-17 3.3626629e-17 5.0327740e-21]], shape=(1, 10), dtype=float32)\n"
     ]
    }
   ],
   "source": [
    "print(y_all[10])\n",
    "print(model(np.reshape(example, [1, 64, 64, 1])))"
   ]
  },
  {
   "cell_type": "markdown",
   "metadata": {},
   "source": [
    "## 8: Demonstrate that the target model fails on the adversarial example\n",
    "This is the real test -- transferring the learned adversarial example from the surrogate model to the target model.\n",
    "Compute the target model's prediction and probability for the original example and the adversarial example, and compare them."
   ]
  },
  {
   "cell_type": "code",
   "execution_count": 90,
   "metadata": {},
   "outputs": [],
   "source": [
    "ex = np.reshape(example, [1, 64, 64, 1])\n",
    "adv_ex = np.reshape(adv_example, [1, 64, 64, 1])"
   ]
  },
  {
   "cell_type": "code",
   "execution_count": 96,
   "metadata": {},
   "outputs": [
    {
     "name": "stdout",
     "output_type": "stream",
     "text": [
      "tf.Tensor(\n",
      "[[6.23705643e-10 1.06517436e-13 1.38771281e-06 7.70195001e-08\n",
      "  1.57073154e-09 2.87712321e-09 9.99998450e-01 9.09846365e-11\n",
      "  5.29122079e-10 9.78938407e-14]], shape=(1, 10), dtype=float32)\n",
      "tf.Tensor([6], shape=(1,), dtype=int64)\n"
     ]
    }
   ],
   "source": [
    "ex_probs = target_model(ex)\n",
    "print(ex_probs)\n",
    "print(tf.argmax(ex_probs, axis=1))\n",
    "# The target model correctly classifies the example as the number 6."
   ]
  },
  {
   "cell_type": "code",
   "execution_count": 97,
   "metadata": {},
   "outputs": [
    {
     "name": "stdout",
     "output_type": "stream",
     "text": [
      "tf.Tensor(\n",
      "[[5.3709736e-12 6.2007523e-01 3.7980500e-01 1.9776839e-05 5.2378040e-13\n",
      "  1.2145458e-12 3.0970819e-09 9.8522549e-05 1.5431453e-06 1.1355083e-13]], shape=(1, 10), dtype=float32)\n",
      "tf.Tensor([1], shape=(1,), dtype=int64)\n"
     ]
    }
   ],
   "source": [
    "adv_probs = target_model(adv_ex)\n",
    "print(adv_probs)\n",
    "print(tf.argmax(adv_probs, axis=1))\n",
    "# However, it is fairly confident that the slightly altered adversarial example is a 1 (with its second choice\n",
    "# being 2)."
   ]
  },
  {
   "cell_type": "markdown",
   "metadata": {},
   "source": [
    "# Congratulations, you've carried out a black-box adversarial attack!\n",
    "These kinds of adversarial attacks are a serious concern in the real world, since they can be [made to work when printed on paper](https://blog.openai.com/robust-adversarial-inputs/) and [we're still bad at defending against them](https://blog.openai.com/adversarial-example-research/).\n",
    "\n",
    "Some interesting things to try:\n",
    " - Did the surrogate model and the target model misclassify the adversarial example in the same way? (Mine did)\n",
    " - How subtle can you make the noise while still tricking the target network?\n",
    " - Look at how the adversarial example evolves through training in TensorBoard"
   ]
  }
 ],
 "metadata": {
  "kernelspec": {
   "display_name": "Python 3 (ipykernel)",
   "language": "python",
   "name": "python3"
  },
  "language_info": {
   "codemirror_mode": {
    "name": "ipython",
    "version": 3
   },
   "file_extension": ".py",
   "mimetype": "text/x-python",
   "name": "python",
   "nbconvert_exporter": "python",
   "pygments_lexer": "ipython3",
   "version": "3.9.10"
  }
 },
 "nbformat": 4,
 "nbformat_minor": 4
}
