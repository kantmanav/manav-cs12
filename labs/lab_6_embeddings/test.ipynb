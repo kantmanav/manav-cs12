{
 "cells": [
  {
   "cell_type": "code",
   "execution_count": 1,
   "metadata": {},
   "outputs": [],
   "source": [
    "%matplotlib inline\n",
    "import numpy as np\n",
    "import matplotlib.pyplot as plt\n",
    "import tensorflow as tf\n",
    "import tensorflow.keras"
   ]
  },
  {
   "cell_type": "code",
   "execution_count": 8,
   "metadata": {},
   "outputs": [],
   "source": [
    "embeddings = tf.Variable(tf.initializers.glorot_uniform()(shape=(10, 4)))"
   ]
  },
  {
   "cell_type": "code",
   "execution_count": 9,
   "metadata": {
    "scrolled": true
   },
   "outputs": [
    {
     "data": {
      "text/plain": [
       "<tf.Variable 'Variable:0' shape=(10, 4) dtype=float32, numpy=\n",
       "array([[ 0.5261166 ,  0.18858218,  0.21261919,  0.56117153],\n",
       "       [ 0.14620614, -0.49192286, -0.09956354,  0.27477008],\n",
       "       [-0.2852441 , -0.3607269 ,  0.38431728, -0.21654934],\n",
       "       [ 0.35983133, -0.39179555,  0.12253249, -0.21574146],\n",
       "       [ 0.00878239, -0.14678568,  0.1319381 ,  0.4768026 ],\n",
       "       [ 0.6285664 , -0.33480984, -0.22057763,  0.45323086],\n",
       "       [ 0.34550142, -0.19282335,  0.01585007,  0.11388558],\n",
       "       [-0.4974628 , -0.24138954, -0.36911455,  0.4419886 ],\n",
       "       [-0.5021223 ,  0.18120527,  0.21738017,  0.2787093 ],\n",
       "       [ 0.32135904, -0.27003863, -0.6149886 , -0.03032559]],\n",
       "      dtype=float32)>"
      ]
     },
     "execution_count": 9,
     "metadata": {},
     "output_type": "execute_result"
    }
   ],
   "source": [
    "embeddings"
   ]
  },
  {
   "cell_type": "code",
   "execution_count": 12,
   "metadata": {},
   "outputs": [],
   "source": [
    "context = tf.constant([[0, 1], [2, 4], [2, 5]])\n",
    "context_embeddings = tf.nn.embedding_lookup(embeddings, context)"
   ]
  },
  {
   "cell_type": "code",
   "execution_count": 13,
   "metadata": {},
   "outputs": [
    {
     "data": {
      "text/plain": [
       "<tf.Tensor: shape=(3,), dtype=int32, numpy=array([3, 2, 4], dtype=int32)>"
      ]
     },
     "execution_count": 13,
     "metadata": {},
     "output_type": "execute_result"
    }
   ],
   "source": [
    "tf.shape(context_embeddings)"
   ]
  },
  {
   "cell_type": "code",
   "execution_count": 14,
   "metadata": {},
   "outputs": [
    {
     "data": {
      "text/plain": [
       "<tf.Tensor: shape=(3, 2, 4), dtype=float32, numpy=\n",
       "array([[[ 0.5261166 ,  0.18858218,  0.21261919,  0.56117153],\n",
       "        [ 0.14620614, -0.49192286, -0.09956354,  0.27477008]],\n",
       "\n",
       "       [[-0.2852441 , -0.3607269 ,  0.38431728, -0.21654934],\n",
       "        [ 0.00878239, -0.14678568,  0.1319381 ,  0.4768026 ]],\n",
       "\n",
       "       [[-0.2852441 , -0.3607269 ,  0.38431728, -0.21654934],\n",
       "        [ 0.6285664 , -0.33480984, -0.22057763,  0.45323086]]],\n",
       "      dtype=float32)>"
      ]
     },
     "execution_count": 14,
     "metadata": {},
     "output_type": "execute_result"
    }
   ],
   "source": [
    "context_embeddings"
   ]
  },
  {
   "cell_type": "code",
   "execution_count": 15,
   "metadata": {},
   "outputs": [],
   "source": [
    "# shape: (batch_size, 2, embedding_size)\n",
    "# average across dimension 1"
   ]
  },
  {
   "cell_type": "code",
   "execution_count": 16,
   "metadata": {},
   "outputs": [],
   "source": [
    "avg_context = tf.reduce_mean(context_embeddings, axis=1)"
   ]
  },
  {
   "cell_type": "code",
   "execution_count": 17,
   "metadata": {},
   "outputs": [
    {
     "data": {
      "text/plain": [
       "<tf.Tensor: shape=(2,), dtype=int32, numpy=array([3, 4], dtype=int32)>"
      ]
     },
     "execution_count": 17,
     "metadata": {},
     "output_type": "execute_result"
    }
   ],
   "source": [
    "tf.shape(avg_context)"
   ]
  },
  {
   "cell_type": "code",
   "execution_count": 18,
   "metadata": {},
   "outputs": [
    {
     "data": {
      "text/plain": [
       "<tf.Tensor: shape=(3, 4), dtype=float32, numpy=\n",
       "array([[ 0.33616138, -0.15167034,  0.05652782,  0.4179708 ],\n",
       "       [-0.13823086, -0.25375628,  0.2581277 ,  0.13012663],\n",
       "       [ 0.17166114, -0.34776837,  0.08186983,  0.11834076]],\n",
       "      dtype=float32)>"
      ]
     },
     "execution_count": 18,
     "metadata": {},
     "output_type": "execute_result"
    }
   ],
   "source": [
    "avg_context"
   ]
  },
  {
   "cell_type": "code",
   "execution_count": 19,
   "metadata": {},
   "outputs": [],
   "source": [
    "word = tf.constant([0, 1, 2])\n",
    "word_embeddings = tf.nn.embedding_lookup(embeddings, word)"
   ]
  },
  {
   "cell_type": "code",
   "execution_count": 20,
   "metadata": {},
   "outputs": [
    {
     "data": {
      "text/plain": [
       "<tf.Tensor: shape=(2,), dtype=int32, numpy=array([3, 4], dtype=int32)>"
      ]
     },
     "execution_count": 20,
     "metadata": {},
     "output_type": "execute_result"
    }
   ],
   "source": [
    "tf.shape(word_embeddings)\n",
    "# shape: (batch_size, embedding_size)"
   ]
  },
  {
   "cell_type": "code",
   "execution_count": null,
   "metadata": {},
   "outputs": [],
   "source": []
  }
 ],
 "metadata": {
  "kernelspec": {
   "display_name": "Python 3",
   "language": "python",
   "name": "python3"
  },
  "language_info": {
   "codemirror_mode": {
    "name": "ipython",
    "version": 3
   },
   "file_extension": ".py",
   "mimetype": "text/x-python",
   "name": "python",
   "nbconvert_exporter": "python",
   "pygments_lexer": "ipython3",
   "version": "3.8.3"
  }
 },
 "nbformat": 4,
 "nbformat_minor": 4
}
